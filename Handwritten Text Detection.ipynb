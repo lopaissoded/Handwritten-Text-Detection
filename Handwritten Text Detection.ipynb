{
 "cells": [
  {
   "cell_type": "markdown",
   "metadata": {
    "colab_type": "text",
    "id": "ZhWhuTnsMnKc"
   },
   "source": [
    "## getting the data and all the necessary text files and functions"
   ]
  },
  {
   "cell_type": "code",
   "execution_count": 1,
   "metadata": {
    "colab": {},
    "colab_type": "code",
    "id": "Ij6sTs9SMbye"
   },
   "outputs": [],
   "source": [
    "import cv2\n",
    "import numpy as np\n",
    "import matplotlib.pyplot as plt\n",
    "%matplotlib inline\n",
    "import random"
   ]
  },
  {
   "cell_type": "code",
   "execution_count": 2,
   "metadata": {
    "colab": {
     "base_uri": "https://localhost:8080/",
     "height": 34
    },
    "colab_type": "code",
    "executionInfo": {
     "elapsed": 9424,
     "status": "ok",
     "timestamp": 1595675594934,
     "user": {
      "displayName": "Naveen Kumar",
      "photoUrl": "https://lh3.googleusercontent.com/a-/AOh14Gh-hEIN3J2VMWXR8f83MWIqwxMlPCotdIa75Ds-YCo=s64",
      "userId": "06815297531880503883"
     },
     "user_tz": -330
    },
    "id": "88gkAyRTI03C",
    "outputId": "308e8927-9f5e-4873-b11b-4a7513da558c"
   },
   "outputs": [],
   "source": [
    "# !wget -q https://git.io/J0fjL -O IAM_Words.zip\n",
    "# !unzip -qq IAM_Words.zip\n",
    "# !\n",
    "# !mkdir data\n",
    "# !mkdir data\\words\n",
    "# !tar -xf IAM_Words\\words.tgz -C data/words\n",
    "# !move IAM_Words\\words.txt data"
   ]
  },
  {
   "cell_type": "code",
   "execution_count": 3,
   "metadata": {
    "colab": {},
    "colab_type": "code",
    "id": "BA476SmCKFbG"
   },
   "outputs": [],
   "source": [
    "data_location = '/data/words'\n",
    "words_txt_location = 'data/words.txt'"
   ]
  },
  {
   "cell_type": "code",
   "execution_count": 4,
   "metadata": {
    "colab": {},
    "colab_type": "code",
    "id": "oVsd-V5Xhobn"
   },
   "outputs": [],
   "source": [
    "def get_paths_and_gts(partition_split_file):\n",
    "    \"\"\"\n",
    "    read a string like(which can be found in each line of words.txt file):\n",
    "    'a01-000u-00-00 ok 154 408 768 27 51 AT A'\n",
    "    and extract 'a01-000u-00-00': location of the image with sub-folders, to read it from the directories\n",
    "                'ok'            : processing status. ok means good, presumably.\n",
    "                'A'             : ground truth text\n",
    "\n",
    "    Then, pre-process using function defined above\n",
    "    \"\"\"\n",
    "    # a list to store paths to images and ground truth texts\n",
    "    paths_and_gts = []\n",
    "    \n",
    "    # open the file\n",
    "    with open(partition_split_file) as f:\n",
    "        # go through each line\n",
    "        for line in f:\n",
    "            # if a line is empty or commented with #, ignore that line\n",
    "            if not line or line.startswith('#'):\n",
    "                continue\n",
    "            \n",
    "            # in the text file, each line is seperated with '\\n', so `strip` first\n",
    "            # then string like 'a01-000u-00-00 ok 154 408 768 27 51 AT A' has to split to a list by spaces\n",
    "            line_split = line.strip().split(' ')\n",
    "            \n",
    "            # the first item of the list contains path information, so split that by '-'\n",
    "            directory_split = line_split[0].split('-')\n",
    "            \n",
    "            # now use all the above and concatenate to a string to make a path to an image\n",
    "            image_location = f'{data_location}/{directory_split[0]}/{directory_split[0]}-{directory_split[1]}/{line_split[0]}.png'\n",
    "            \n",
    "            # in a string like 'a01-000u-00-00 ok 154 408 768 27 51 AT A', text from 9th split is the ground truth text.\n",
    "            gt_text = ' '.join(line_split[8:])\n",
    "            \n",
    "            # ignore a sample(image and ground truth text), if the ground truth has more than 16 letters\n",
    "            # if len(gt_text) > 16:\n",
    "                # continue\n",
    "            \n",
    "            # now, append the image location and ground truth text of that image as a list to \n",
    "            paths_and_gts.append([image_location, gt_text])\n",
    "    \n",
    "    return paths_and_gts"
   ]
  },
  {
   "cell_type": "markdown",
   "metadata": {
    "colab_type": "text",
    "id": "awFnLaKjgng1"
   },
   "source": [
    "## pre-processing"
   ]
  },
  {
   "cell_type": "code",
   "execution_count": 5,
   "metadata": {
    "colab": {},
    "colab_type": "code",
    "id": "NtXXXRTagFnM"
   },
   "outputs": [],
   "source": [
    "def add_padding(img, old_w, old_h, new_w, new_h):\n",
    "    h1, h2 = int((new_h - old_h) / 2), int((new_h - old_h) / 2) + old_h\n",
    "    w1, w2 = int((new_w - old_w) / 2), int((new_w - old_w) / 2) + old_w\n",
    "    img_pad = np.ones([new_h, new_w, 3]) * 255\n",
    "    img_pad[h1:h2, w1:w2, :] = img\n",
    "    return img_pad\n",
    "\n",
    "\n",
    "def fix_size(img, target_w, target_h):\n",
    "    h, w = img.shape[:2]\n",
    "    if w < target_w and h < target_h:\n",
    "        img = add_padding(img, w, h, target_w, target_h)\n",
    "    elif w >= target_w and h < target_h:\n",
    "        new_w = target_w\n",
    "        new_h = int(h * new_w / w)\n",
    "        new_img = cv2.resize(img, (new_w, new_h), interpolation=cv2.INTER_AREA)\n",
    "        img = add_padding(new_img, new_w, new_h, target_w, target_h)\n",
    "    elif w < target_w and h >= target_h:\n",
    "        new_h = target_h\n",
    "        new_w = int(w * new_h / h)\n",
    "        new_img = cv2.resize(img, (new_w, new_h), interpolation=cv2.INTER_AREA)\n",
    "        img = add_padding(new_img, new_w, new_h, target_w, target_h)\n",
    "    else:\n",
    "        \"\"\"w>=target_w and h>=target_h \"\"\"\n",
    "        ratio = max(w / target_w, h / target_h)\n",
    "        new_w = max(min(target_w, int(w / ratio)), 1)\n",
    "        new_h = max(min(target_h, int(h / ratio)), 1)\n",
    "        new_img = cv2.resize(img, (new_w, new_h), interpolation=cv2.INTER_AREA)\n",
    "        img = add_padding(new_img, new_w, new_h, target_w, target_h)\n",
    "    return img\n",
    "\n",
    "\n",
    "def preprocess(path, img_w, img_h):\n",
    "    \"\"\" Pre-processing image for predicting \"\"\"\n",
    "    img = cv2.imread(path)\n",
    "    img = fix_size(img, img_w, img_h)\n",
    "\n",
    "    img = np.clip(img, 0, 255)\n",
    "    img = np.uint8(img)\n",
    "    img = cv2.cvtColor(img, cv2.COLOR_BGR2GRAY)\n",
    "\n",
    "    img = img.astype(np.float32)\n",
    "    img /= 255\n",
    "    return img"
   ]
  },
  {
   "cell_type": "code",
   "execution_count": 6,
   "metadata": {
    "colab": {
     "base_uri": "https://localhost:8080/",
     "height": 34
    },
    "colab_type": "code",
    "executionInfo": {
     "elapsed": 54719,
     "status": "ok",
     "timestamp": 1595675640300,
     "user": {
      "displayName": "Naveen Kumar",
      "photoUrl": "https://lh3.googleusercontent.com/a-/AOh14Gh-hEIN3J2VMWXR8f83MWIqwxMlPCotdIa75Ds-YCo=s64",
      "userId": "06815297531880503883"
     },
     "user_tz": -330
    },
    "id": "vhoPnveagHTY",
    "outputId": "92fb476a-0448-4a01-d896-a072f1a81e97"
   },
   "outputs": [
    {
     "name": "stdout",
     "output_type": "stream",
     "text": [
      "80\n"
     ]
    }
   ],
   "source": [
    "letters = [' ', '!', '\"', '#', '&', \"'\", '(', ')', '*', '+', ',', '-', '.', '/',\n",
    "           '0', '1', '2', '3', '4', '5', '6', '7', '8', '9', ':', ';', '?',\n",
    "           'A', 'B', 'C', 'D', 'E', 'F', 'G', 'H', 'I', 'J', 'K', 'L', 'M',\n",
    "           'N', 'O', 'P', 'Q', 'R', 'S', 'T', 'U', 'V', 'W', 'X', 'Y', 'Z',\n",
    "           'a', 'b', 'c', 'd', 'e', 'f', 'g', 'h', 'i', 'j', 'k', 'l', 'm',\n",
    "           'n', 'o', 'p', 'q', 'r', 's', 't', 'u', 'v', 'w', 'x', 'y', 'z']\n",
    "\n",
    "num_classes = len(letters) + 1\n",
    "print(num_classes)"
   ]
  },
  {
   "cell_type": "markdown",
   "metadata": {
    "colab_type": "text",
    "id": "rQsqbn2FM3V2"
   },
   "source": [
    "## generating all the pre-processed vectors"
   ]
  },
  {
   "cell_type": "code",
   "execution_count": 7,
   "metadata": {
    "colab": {},
    "colab_type": "code",
    "id": "ZNBgqbnrhvt-"
   },
   "outputs": [],
   "source": [
    "def text_to_labels(text):\n",
    "    return list(map(lambda x: letters.index(x), text))\n",
    "\n",
    "def labels_to_text(labels):\n",
    "    return ''.join(list(map(lambda x: letters[int(x)], labels)))"
   ]
  },
  {
   "cell_type": "code",
   "execution_count": 8,
   "metadata": {
    "colab": {
     "base_uri": "https://localhost:8080/",
     "height": 34
    },
    "colab_type": "code",
    "executionInfo": {
     "elapsed": 55659,
     "status": "ok",
     "timestamp": 1595675641263,
     "user": {
      "displayName": "Naveen Kumar",
      "photoUrl": "https://lh3.googleusercontent.com/a-/AOh14Gh-hEIN3J2VMWXR8f83MWIqwxMlPCotdIa75Ds-YCo=s64",
      "userId": "06815297531880503883"
     },
     "user_tz": -330
    },
    "id": "JKFzcbVQh3hV",
    "outputId": "59b5b068-2f6d-4967-d042-56622d5d63be"
   },
   "outputs": [
    {
     "data": {
      "text/plain": [
       "(87292, 4316, 4316)"
      ]
     },
     "execution_count": 8,
     "metadata": {},
     "output_type": "execute_result"
    }
   ],
   "source": [
    "train_files = get_paths_and_gts('data/train_files.txt')\n",
    "valid_files = get_paths_and_gts('data/valid_files.txt')\n",
    "test_files = get_paths_and_gts('data/test_files.txt')\n",
    "len(train_files), len(valid_files), len(test_files)"
   ]
  },
  {
   "cell_type": "code",
   "execution_count": 9,
   "metadata": {
    "colab": {
     "base_uri": "https://localhost:8080/",
     "height": 34
    },
    "colab_type": "code",
    "executionInfo": {
     "elapsed": 55648,
     "status": "ok",
     "timestamp": 1595675641264,
     "user": {
      "displayName": "Naveen Kumar",
      "photoUrl": "https://lh3.googleusercontent.com/a-/AOh14Gh-hEIN3J2VMWXR8f83MWIqwxMlPCotdIa75Ds-YCo=s64",
      "userId": "06815297531880503883"
     },
     "user_tz": -330
    },
    "id": "Y-x3BG4yp7V0",
    "outputId": "b951ac56-8ff5-485f-ce61-f3dc5b6b787d"
   },
   "outputs": [
    {
     "name": "stdout",
     "output_type": "stream",
     "text": [
      "4576\n"
     ]
    }
   ],
   "source": [
    "# since this image is not readable is not readable, it has to be discarded.\n",
    "# ../words/r06/r06-022/r06-022-03-05.png'\n",
    "\n",
    "for index, (img_loc, gt_text) in enumerate(train_files):\n",
    "    if 'r06-022-03-05' in img_loc:\n",
    "        print(index)\n",
    "    else:\n",
    "        continue"
   ]
  },
  {
   "cell_type": "code",
   "execution_count": 10,
   "metadata": {
    "colab": {
     "base_uri": "https://localhost:8080/",
     "height": 34
    },
    "colab_type": "code",
    "executionInfo": {
     "elapsed": 55634,
     "status": "ok",
     "timestamp": 1595675641265,
     "user": {
      "displayName": "Naveen Kumar",
      "photoUrl": "https://lh3.googleusercontent.com/a-/AOh14Gh-hEIN3J2VMWXR8f83MWIqwxMlPCotdIa75Ds-YCo=s64",
      "userId": "06815297531880503883"
     },
     "user_tz": -330
    },
    "id": "piAUpeaVoTn6",
    "outputId": "1dbf2f33-c27c-4f65-a2c2-d4798763ca0a"
   },
   "outputs": [
    {
     "data": {
      "text/plain": [
       "['/data/words/r06/r06-022/r06-022-03-05.png', 'more']"
      ]
     },
     "execution_count": 10,
     "metadata": {},
     "output_type": "execute_result"
    }
   ],
   "source": [
    "train_files[4576]"
   ]
  },
  {
   "cell_type": "code",
   "execution_count": 11,
   "metadata": {
    "colab": {
     "base_uri": "https://localhost:8080/",
     "height": 34
    },
    "colab_type": "code",
    "executionInfo": {
     "elapsed": 55620,
     "status": "ok",
     "timestamp": 1595675641266,
     "user": {
      "displayName": "Naveen Kumar",
      "photoUrl": "https://lh3.googleusercontent.com/a-/AOh14Gh-hEIN3J2VMWXR8f83MWIqwxMlPCotdIa75Ds-YCo=s64",
      "userId": "06815297531880503883"
     },
     "user_tz": -330
    },
    "id": "_4qp1y6gojTh",
    "outputId": "6467ad44-4928-4df2-8b99-3c8935374131"
   },
   "outputs": [
    {
     "name": "stdout",
     "output_type": "stream",
     "text": [
      "['/data/words/g06/g06-042e/g06-042e-05-03.png', 'notice']\n"
     ]
    }
   ],
   "source": [
    "del train_files[4576]\n",
    "print(train_files[4576])"
   ]
  },
  {
   "cell_type": "markdown",
   "metadata": {
    "colab_type": "text",
    "id": "q6f66gZXby6A"
   },
   "source": [
    "this is how images used for training will look like."
   ]
  },
  {
   "cell_type": "code",
   "execution_count": 12,
   "metadata": {
    "colab": {
     "base_uri": "https://localhost:8080/",
     "height": 302
    },
    "colab_type": "code",
    "executionInfo": {
     "elapsed": 55607,
     "status": "ok",
     "timestamp": 1595675641266,
     "user": {
      "displayName": "Naveen Kumar",
      "photoUrl": "https://lh3.googleusercontent.com/a-/AOh14Gh-hEIN3J2VMWXR8f83MWIqwxMlPCotdIa75Ds-YCo=s64",
      "userId": "06815297531880503883"
     },
     "user_tz": -330
    },
    "id": "uDFwXJNVhtgm",
    "outputId": "7f24151b-b6eb-4281-8c4f-c8cc1bebb240"
   },
   "outputs": [
    {
     "name": "stdout",
     "output_type": "stream",
     "text": [
      "CITIZENS\n"
     ]
    },
    {
     "data": {
      "text/plain": [
       "<matplotlib.image.AxesImage at 0x1ccb4b85b50>"
      ]
     },
     "execution_count": 12,
     "metadata": {},
     "output_type": "execute_result"
    },
    {
     "data": {
      "image/png": "[encoded data removed]",
      "text/plain": [
       "<Figure size 640x480 with 1 Axes>"
      ]
     },
     "metadata": {},
     "output_type": "display_data"
    }
   ],
   "source": [
    "i = 21\n",
    "path=train_files[i][0]\n",
    "path=path[1:]\n",
    "# print(path)\n",
    "print(train_files[i][1])\n",
    "an_img = preprocess(path, img_w=128, img_h=64)\n",
    "plt.imshow(an_img.T)"
   ]
  },
  {
   "cell_type": "code",
   "execution_count": 13,
   "metadata": {
    "colab": {},
    "colab_type": "code",
    "id": "1sVUCBXqceh2"
   },
   "outputs": [],
   "source": [
    "class TextImageGenerator:\n",
    "    \n",
    "    def __init__(self, data,\n",
    "                 img_w,\n",
    "                 img_h, \n",
    "                 batch_size, \n",
    "                 i_len,\n",
    "                 max_text_len):\n",
    "        \n",
    "        self.img_h = img_h\n",
    "        self.img_w = img_w\n",
    "        self.batch_size = batch_size\n",
    "        self.max_text_len = max_text_len\n",
    "        self.samples = data\n",
    "        self.n = len(self.samples)\n",
    "        self.i_len = i_len\n",
    "        self.indexes = list(range(self.n))\n",
    "        self.cur_index = 0\n",
    "        \n",
    "    def build_data(self):\n",
    "        self.imgs = np.zeros((self.n, self.img_h, self.img_w))\n",
    "        self.texts = []\n",
    "        for i, (img_filepath, text) in enumerate(self.samples):\n",
    "            img_filepath=img_filepath[1:]\n",
    "            img = preprocess(img_filepath, self.img_w, self.img_h)\n",
    "            if img is None:\n",
    "                print(f\"Error processing image: {img_filepath}\")\n",
    "            self.imgs[i, :, :] = img\n",
    "            self.texts.append(text)\n",
    "\n",
    "    \n",
    "    def next_sample(self):\n",
    "        self.cur_index += 1\n",
    "        if self.cur_index >= self.n:\n",
    "            self.cur_index = 0\n",
    "            random.shuffle(self.indexes)\n",
    "        return self.imgs[self.indexes[self.cur_index]], self.texts[self.indexes[self.cur_index]]\n",
    "    \n",
    "    def next_batch(self):\n",
    "        while True:\n",
    "            # width and height are backwards from typical Keras convention\n",
    "            # because width is the time dimension when it gets fed into the RNN\n",
    "            X_data = np.ones([self.batch_size, self.img_w, self.img_h, 1])\n",
    "            Y_data = np.zeros([self.batch_size, self.max_text_len])\n",
    "            input_length = np.ones((self.batch_size, 1)) * self.i_len\n",
    "            label_length = np.zeros((self.batch_size, 1))\n",
    "                                   \n",
    "            for i in range(self.batch_size):\n",
    "                img, text = self.next_sample()\n",
    "                img = img.T\n",
    "                img = np.expand_dims(img, -1)\n",
    "                X_data[i] = img\n",
    "                Y_data[i, :len(text)] = text_to_labels(text)\n",
    "                label_length[i] = len(text)\n",
    "                \n",
    "            inputs = [X_data, Y_data, input_length, label_length]\n",
    "            outputs = np.zeros([self.batch_size])\n",
    "            yield (inputs, outputs)"
   ]
  },
  {
   "cell_type": "code",
   "execution_count": 14,
   "metadata": {
    "colab": {},
    "colab_type": "code",
    "id": "AiY8tC1gcqU9"
   },
   "outputs": [],
   "source": [
    "batch_size = 64\n",
    "input_length = 30\n",
    "max_text_len = 16\n",
    "img_w = 128\n",
    "img_h = 64"
   ]
  },
  {
   "cell_type": "code",
   "execution_count": 15,
   "metadata": {
    "colab": {},
    "colab_type": "code",
    "id": "191h4j01ciIM",
    "scrolled": true
   },
   "outputs": [],
   "source": [
    "train_data = TextImageGenerator(train_files, img_w, img_h, batch_size, input_length, max_text_len)\n",
    "train_data.build_data()"
   ]
  },
  {
   "cell_type": "code",
   "execution_count": 16,
   "metadata": {
    "colab": {
     "base_uri": "https://localhost:8080/",
     "height": 34
    },
    "colab_type": "code",
    "executionInfo": {
     "elapsed": 175844,
     "status": "ok",
     "timestamp": 1595675761542,
     "user": {
      "displayName": "Naveen Kumar",
      "photoUrl": "https://lh3.googleusercontent.com/a-/AOh14Gh-hEIN3J2VMWXR8f83MWIqwxMlPCotdIa75Ds-YCo=s64",
      "userId": "06815297531880503883"
     },
     "user_tz": -330
    },
    "id": "48MDmv6VfEmJ",
    "outputId": "797ec553-0d49-4a25-8d2d-81ec4accc172"
   },
   "outputs": [
    {
     "data": {
      "text/plain": [
       "(87291, 64, 128)"
      ]
     },
     "execution_count": 16,
     "metadata": {},
     "output_type": "execute_result"
    }
   ],
   "source": [
    "train_data.imgs.shape"
   ]
  },
  {
   "cell_type": "code",
   "execution_count": 17,
   "metadata": {
    "colab": {},
    "colab_type": "code",
    "id": "M9IuosR1IT8B"
   },
   "outputs": [],
   "source": [
    "validation_data = TextImageGenerator(valid_files, img_w, img_h, batch_size, input_length, max_text_len)\n",
    "validation_data.build_data()"
   ]
  },
  {
   "cell_type": "markdown",
   "metadata": {
    "colab_type": "text",
    "id": "9sRlzy4COkvW"
   },
   "source": [
    "# making model"
   ]
  },
  {
   "cell_type": "code",
   "execution_count": 18,
   "metadata": {
    "colab": {
     "base_uri": "https://localhost:8080/",
     "height": 35
    },
    "colab_type": "code",
    "executionInfo": {
     "elapsed": 184266,
     "status": "ok",
     "timestamp": 1595675769987,
     "user": {
      "displayName": "Naveen Kumar",
      "photoUrl": "https://lh3.googleusercontent.com/a-/AOh14Gh-hEIN3J2VMWXR8f83MWIqwxMlPCotdIa75Ds-YCo=s64",
      "userId": "06815297531880503883"
     },
     "user_tz": -330
    },
    "id": "74GR3lUAS2zf",
    "outputId": "381c21e0-d8f9-49f6-ef5a-fd58a6d36abb"
   },
   "outputs": [
    {
     "name": "stdout",
     "output_type": "stream",
     "text": [
      "WARNING:tensorflow:From C:\\Users\\KIIT\\anaconda3\\lib\\site-packages\\keras\\src\\losses.py:2976: The name tf.losses.sparse_softmax_cross_entropy is deprecated. Please use tf.compat.v1.losses.sparse_softmax_cross_entropy instead.\n",
      "\n"
     ]
    },
    {
     "data": {
      "text/plain": [
       "'channels_last'"
      ]
     },
     "execution_count": 18,
     "metadata": {},
     "output_type": "execute_result"
    }
   ],
   "source": [
    "from tensorflow.keras import layers\n",
    "from tensorflow.keras import Model\n",
    "from tensorflow.keras import backend as tf_keras_backend\n",
    "\n",
    "tf_keras_backend.set_image_data_format('channels_last')\n",
    "tf_keras_backend.image_data_format()"
   ]
  },
  {
   "cell_type": "code",
   "execution_count": 19,
   "metadata": {
    "colab": {
     "base_uri": "https://localhost:8080/",
     "height": 1000
    },
    "colab_type": "code",
    "executionInfo": {
     "elapsed": 1083,
     "status": "ok",
     "timestamp": 1595689284750,
     "user": {
      "displayName": "Naveen Kumar",
      "photoUrl": "https://lh3.googleusercontent.com/a-/AOh14Gh-hEIN3J2VMWXR8f83MWIqwxMlPCotdIa75Ds-YCo=s64",
      "userId": "06815297531880503883"
     },
     "user_tz": -330
    },
    "id": "gtu1k2kcyuog",
    "outputId": "d42163fd-d3f6-457e-e637-61f0300c6ca7"
   },
   "outputs": [
    {
     "name": "stdout",
     "output_type": "stream",
     "text": [
      "WARNING:tensorflow:From C:\\Users\\KIIT\\anaconda3\\lib\\site-packages\\keras\\src\\backend.py:1398: The name tf.executing_eagerly_outside_functions is deprecated. Please use tf.compat.v1.executing_eagerly_outside_functions instead.\n",
      "\n",
      "WARNING:tensorflow:From C:\\Users\\KIIT\\anaconda3\\lib\\site-packages\\keras\\src\\layers\\normalization\\batch_normalization.py:979: The name tf.nn.fused_batch_norm is deprecated. Please use tf.compat.v1.nn.fused_batch_norm instead.\n",
      "\n",
      "Model: \"model\"\n",
      "__________________________________________________________________________________________________\n",
      " Layer (type)                Output Shape                 Param #   Connected to                  \n",
      "==================================================================================================\n",
      " the_input (InputLayer)      [(None, 128, 64, 1)]         0         []                            \n",
      "                                                                                                  \n",
      " conv1 (Conv2D)              (None, 128, 64, 64)          640       ['the_input[0][0]']           \n",
      "                                                                                                  \n",
      " batch_normalization (Batch  (None, 128, 64, 64)          256       ['conv1[0][0]']               \n",
      " Normalization)                                                                                   \n",
      "                                                                                                  \n",
      " activation (Activation)     (None, 128, 64, 64)          0         ['batch_normalization[0][0]'] \n",
      "                                                                                                  \n",
      " max1 (MaxPooling2D)         (None, 64, 32, 64)           0         ['activation[0][0]']          \n",
      "                                                                                                  \n",
      " conv2 (Conv2D)              (None, 64, 32, 128)          73856     ['max1[0][0]']                \n",
      "                                                                                                  \n",
      " batch_normalization_1 (Bat  (None, 64, 32, 128)          512       ['conv2[0][0]']               \n",
      " chNormalization)                                                                                 \n",
      "                                                                                                  \n",
      " activation_1 (Activation)   (None, 64, 32, 128)          0         ['batch_normalization_1[0][0]'\n",
      "                                                                    ]                             \n",
      "                                                                                                  \n",
      " max2 (MaxPooling2D)         (None, 32, 16, 128)          0         ['activation_1[0][0]']        \n",
      "                                                                                                  \n",
      " conv3 (Conv2D)              (None, 32, 16, 256)          295168    ['max2[0][0]']                \n",
      "                                                                                                  \n",
      " batch_normalization_2 (Bat  (None, 32, 16, 256)          1024      ['conv3[0][0]']               \n",
      " chNormalization)                                                                                 \n",
      "                                                                                                  \n",
      " activation_2 (Activation)   (None, 32, 16, 256)          0         ['batch_normalization_2[0][0]'\n",
      "                                                                    ]                             \n",
      "                                                                                                  \n",
      " conv4 (Conv2D)              (None, 32, 16, 256)          590080    ['activation_2[0][0]']        \n",
      "                                                                                                  \n",
      " batch_normalization_3 (Bat  (None, 32, 16, 256)          1024      ['conv4[0][0]']               \n",
      " chNormalization)                                                                                 \n",
      "                                                                                                  \n",
      " activation_3 (Activation)   (None, 32, 16, 256)          0         ['batch_normalization_3[0][0]'\n",
      "                                                                    ]                             \n",
      "                                                                                                  \n",
      " max3 (MaxPooling2D)         (None, 32, 8, 256)           0         ['activation_3[0][0]']        \n",
      "                                                                                                  \n",
      " conv5 (Conv2D)              (None, 32, 8, 512)           1180160   ['max3[0][0]']                \n",
      "                                                                                                  \n",
      " batch_normalization_4 (Bat  (None, 32, 8, 512)           2048      ['conv5[0][0]']               \n",
      " chNormalization)                                                                                 \n",
      "                                                                                                  \n",
      " activation_4 (Activation)   (None, 32, 8, 512)           0         ['batch_normalization_4[0][0]'\n",
      "                                                                    ]                             \n",
      "                                                                                                  \n",
      " conv6 (Conv2D)              (None, 32, 8, 512)           2359808   ['activation_4[0][0]']        \n",
      "                                                                                                  \n",
      " batch_normalization_5 (Bat  (None, 32, 8, 512)           2048      ['conv6[0][0]']               \n",
      " chNormalization)                                                                                 \n",
      "                                                                                                  \n",
      " activation_5 (Activation)   (None, 32, 8, 512)           0         ['batch_normalization_5[0][0]'\n",
      "                                                                    ]                             \n",
      "                                                                                                  \n",
      " max4 (MaxPooling2D)         (None, 32, 4, 512)           0         ['activation_5[0][0]']        \n",
      "                                                                                                  \n",
      " con7 (Conv2D)               (None, 32, 4, 512)           1049088   ['max4[0][0]']                \n",
      "                                                                                                  \n",
      " batch_normalization_6 (Bat  (None, 32, 4, 512)           2048      ['con7[0][0]']                \n",
      " chNormalization)                                                                                 \n",
      "                                                                                                  \n",
      " activation_6 (Activation)   (None, 32, 4, 512)           0         ['batch_normalization_6[0][0]'\n",
      "                                                                    ]                             \n",
      "                                                                                                  \n",
      " reshape (Reshape)           (None, 32, 2048)             0         ['activation_6[0][0]']        \n",
      "                                                                                                  \n",
      " dense1 (Dense)              (None, 32, 64)               131136    ['reshape[0][0]']             \n",
      "                                                                                                  \n",
      " gru1_b (GRU)                (None, 32, 256)              247296    ['dense1[0][0]']              \n",
      "                                                                                                  \n",
      " gru1 (GRU)                  (None, 32, 256)              247296    ['dense1[0][0]']              \n",
      "                                                                                                  \n",
      " lambda (Lambda)             (None, 32, 256)              0         ['gru1_b[0][0]']              \n",
      "                                                                                                  \n",
      " add (Add)                   (None, 32, 256)              0         ['gru1[0][0]',                \n"
     ]
    },
    {
     "name": "stdout",
     "output_type": "stream",
     "text": [
      "                                                                     'lambda[0][0]']              \n",
      "                                                                                                  \n",
      " batch_normalization_7 (Bat  (None, 32, 256)              1024      ['add[0][0]']                 \n",
      " chNormalization)                                                                                 \n",
      "                                                                                                  \n",
      " gru2_b (GRU)                (None, 32, 256)              394752    ['batch_normalization_7[0][0]'\n",
      "                                                                    ]                             \n",
      "                                                                                                  \n",
      " gru2 (GRU)                  (None, 32, 256)              394752    ['batch_normalization_7[0][0]'\n",
      "                                                                    ]                             \n",
      "                                                                                                  \n",
      " lambda_1 (Lambda)           (None, 32, 256)              0         ['gru2_b[0][0]']              \n",
      "                                                                                                  \n",
      " concatenate (Concatenate)   (None, 32, 512)              0         ['gru2[0][0]',                \n",
      "                                                                     'lambda_1[0][0]']            \n",
      "                                                                                                  \n",
      " batch_normalization_8 (Bat  (None, 32, 512)              2048      ['concatenate[0][0]']         \n",
      " chNormalization)                                                                                 \n",
      "                                                                                                  \n",
      " dense2 (Dense)              (None, 32, 80)               41040     ['batch_normalization_8[0][0]'\n",
      "                                                                    ]                             \n",
      "                                                                                                  \n",
      " softmax (Activation)        (None, 32, 80)               0         ['dense2[0][0]']              \n",
      "                                                                                                  \n",
      " the_labels (InputLayer)     [(None, 16)]                 0         []                            \n",
      "                                                                                                  \n",
      " input_length (InputLayer)   [(None, 1)]                  0         []                            \n",
      "                                                                                                  \n",
      " label_length (InputLayer)   [(None, 1)]                  0         []                            \n",
      "                                                                                                  \n",
      " ctc (Lambda)                (None, 1)                    0         ['softmax[0][0]',             \n",
      "                                                                     'the_labels[0][0]',          \n",
      "                                                                     'input_length[0][0]',        \n",
      "                                                                     'label_length[0][0]']        \n",
      "                                                                                                  \n",
      "==================================================================================================\n",
      "Total params: 7017104 (26.77 MB)\n",
      "Trainable params: 7011088 (26.75 MB)\n",
      "Non-trainable params: 6016 (23.50 KB)\n",
      "__________________________________________________________________________________________________\n"
     ]
    }
   ],
   "source": [
    "input_data = layers.Input(name='the_input', shape=(128,64,1), dtype='float32')  # (None, 128, 64, 1)\n",
    "\n",
    "# Convolution layer (VGG)\n",
    "iam_layers = layers.Conv2D(64, (3, 3), padding='same', name='conv1', kernel_initializer='he_normal')(input_data)\n",
    "iam_layers = layers.BatchNormalization()(iam_layers)\n",
    "iam_layers = layers.Activation('relu')(iam_layers)\n",
    "iam_layers = layers.MaxPooling2D(pool_size=(2, 2), name='max1')(iam_layers)  # (None,64, 32, 64)\n",
    "\n",
    "iam_layers = layers.Conv2D(128, (3, 3), padding='same', name='conv2', kernel_initializer='he_normal')(iam_layers)\n",
    "iam_layers = layers.BatchNormalization()(iam_layers)\n",
    "iam_layers = layers.Activation('relu')(iam_layers)\n",
    "iam_layers = layers.MaxPooling2D(pool_size=(2, 2), name='max2')(iam_layers)\n",
    "\n",
    "iam_layers = layers.Conv2D(256, (3, 3), padding='same', name='conv3', kernel_initializer='he_normal')(iam_layers)\n",
    "iam_layers = layers.BatchNormalization()(iam_layers)\n",
    "iam_layers = layers.Activation('relu')(iam_layers)\n",
    "iam_layers = layers.Conv2D(256, (3, 3), padding='same', name='conv4', kernel_initializer='he_normal')(iam_layers)\n",
    "iam_layers = layers.BatchNormalization()(iam_layers)\n",
    "iam_layers = layers.Activation('relu')(iam_layers)\n",
    "iam_layers = layers.MaxPooling2D(pool_size=(1, 2), name='max3')(iam_layers)  # (None, 32, 8, 256)\n",
    "\n",
    "iam_layers = layers.Conv2D(512, (3, 3), padding='same', name='conv5', kernel_initializer='he_normal')(iam_layers)\n",
    "iam_layers = layers.BatchNormalization()(iam_layers)\n",
    "iam_layers = layers.Activation('relu')(iam_layers)\n",
    "iam_layers = layers.Conv2D(512, (3, 3), padding='same', name='conv6')(iam_layers)\n",
    "iam_layers = layers.BatchNormalization()(iam_layers)\n",
    "iam_layers = layers.Activation('relu')(iam_layers)\n",
    "iam_layers = layers.MaxPooling2D(pool_size=(1, 2), name='max4')(iam_layers)\n",
    "\n",
    "iam_layers = layers.Conv2D(512, (2, 2), padding='same', kernel_initializer='he_normal', name='con7')(iam_layers)\n",
    "iam_layers = layers.BatchNormalization()(iam_layers)\n",
    "iam_layers = layers.Activation('relu')(iam_layers)\n",
    "\n",
    "# CNN to RNN\n",
    "iam_layers = layers.Reshape(target_shape=((32, 2048)), name='reshape')(iam_layers)\n",
    "iam_layers = layers.Dense(64, activation='relu', kernel_initializer='he_normal', name='dense1')(iam_layers)\n",
    "\n",
    "# RNN layer\n",
    "gru_1 = layers.GRU(256, return_sequences=True, kernel_initializer='he_normal', name='gru1')(iam_layers)\n",
    "gru_1b = layers.GRU(256, return_sequences=True, go_backwards=True, kernel_initializer='he_normal', name='gru1_b')(iam_layers)\n",
    "reversed_gru_1b = layers.Lambda(lambda inputTensor: tf_keras_backend.reverse(inputTensor, axes=1)) (gru_1b)\n",
    "\n",
    "gru1_merged = layers.add([gru_1, reversed_gru_1b])\n",
    "gru1_merged = layers.BatchNormalization()(gru1_merged)\n",
    "\n",
    "gru_2 = layers.GRU(256, return_sequences=True, kernel_initializer='he_normal', name='gru2')(gru1_merged)\n",
    "gru_2b = layers.GRU(256, return_sequences=True, go_backwards=True, kernel_initializer='he_normal', name='gru2_b')(gru1_merged)\n",
    "reversed_gru_2b= layers.Lambda(lambda inputTensor: tf_keras_backend.reverse(inputTensor, axes=1)) (gru_2b)\n",
    "\n",
    "gru2_merged = layers.concatenate([gru_2, reversed_gru_2b])\n",
    "gru2_merged = layers.BatchNormalization()(gru2_merged)\n",
    "\n",
    "# transforms RNN output to character activations:\n",
    "iam_layers = layers.Dense(80, kernel_initializer='he_normal', name='dense2')(gru2_merged)\n",
    "iam_outputs = layers.Activation('softmax', name='softmax')(iam_layers)\n",
    "\n",
    "labels = layers.Input(name='the_labels', shape=[16], dtype='float32')\n",
    "input_length = layers.Input(name='input_length', shape=[1], dtype='int64')\n",
    "label_length = layers.Input(name='label_length', shape=[1], dtype='int64')\n",
    "\n",
    "\n",
    "def ctc_lambda_func(args):\n",
    "    y_pred, labels, input_length, label_length = args\n",
    "    # the 2 is critical here since the first couple outputs of the RNN\n",
    "    # tend to be garbage:\n",
    "    y_pred = y_pred[:, 2:, :]\n",
    "    return tf_keras_backend.ctc_batch_cost(labels, y_pred, input_length, label_length)\n",
    "\n",
    "\n",
    "# loss function\n",
    "loss_out = layers.Lambda(ctc_lambda_func, output_shape=(1,), name='ctc')([iam_outputs, labels, input_length, label_length])\n",
    "\n",
    "model = Model(inputs=[input_data, labels, input_length, label_length], outputs=loss_out)\n",
    "model.summary()"
   ]
  },
  {
   "cell_type": "code",
   "execution_count": 20,
   "metadata": {
    "colab": {},
    "colab_type": "code",
    "id": "iVhJC5rqTgGg"
   },
   "outputs": [
    {
     "name": "stdout",
     "output_type": "stream",
     "text": [
      "WARNING:tensorflow:From C:\\Users\\KIIT\\anaconda3\\lib\\site-packages\\keras\\src\\optimizers\\__init__.py:309: The name tf.train.Optimizer is deprecated. Please use tf.compat.v1.train.Optimizer instead.\n",
      "\n"
     ]
    }
   ],
   "source": [
    "model.compile(loss={'ctc': lambda y_true, y_pred: y_pred}, optimizer = 'adam')\n",
    "# you will know, why there aren't any metrics"
   ]
  },
  {
   "cell_type": "code",
   "execution_count": 21,
   "metadata": {
    "colab": {},
    "colab_type": "code",
    "id": "4P5u37CzUfF7"
   },
   "outputs": [],
   "source": [
    "import time\n",
    "from tensorflow.keras.callbacks import Callback\n",
    "from datetime import datetime\n",
    "\n",
    "class EpochTimeHistory(Callback):\n",
    "    \"\"\"\n",
    "    a custom callback to print the time(in minutes, to console) each epoch took during.\n",
    "    \"\"\"\n",
    "    def on_train_begin(self, logs={}):\n",
    "        self.train_epoch_times = []\n",
    "        self.valid_epoch_times = []\n",
    "    \n",
    "    def on_epoch_begin(self, epoch, logs={}):\n",
    "        self.epoch_time_start = time.time()\n",
    "\n",
    "    def on_epoch_end(self, epoch, logs={}):\n",
    "            cur_epoch_time = round((time.time() - self.epoch_time_start)/60, 4)\n",
    "            self.train_epoch_times.append(cur_epoch_time )\n",
    "            # cur_epoch_time = datetime.strptime(str(cur_epoch_time), \"%H:%M:%S.%f\").strftime('%H:%M:%S')\n",
    "            self.train_epoch_times.append(cur_epoch_time)\n",
    "            print(\" ;epoch {0} took {1} minutes.\".format(epoch+1, cur_epoch_time))\n",
    "    \n",
    "    ## functions used below are for recording validation times\n",
    "    def on_test_begin(self, logs={}):\n",
    "        self.test_time_start = time.time()\n",
    "\n",
    "    def on_test_end(self, logs={}):\n",
    "        cur_test_time = round((time.time() - self.test_time_start)/60, 4)\n",
    "        self.valid_epoch_times.append(cur_test_time)\n",
    "        # cur_test_time = datetime.strptime(str(cur_test_time), \"%H:%M:%S.%f\").strftime('%H:%M:%S')\n",
    "        print(\" ;validation took {0} minutes.\".format(cur_test_time))"
   ]
  },
  {
   "cell_type": "code",
   "execution_count": 22,
   "metadata": {
    "colab": {},
    "colab_type": "code",
    "id": "nT6aB8EnUffU"
   },
   "outputs": [],
   "source": [
    "from tensorflow.keras.callbacks import ModelCheckpoint, EarlyStopping\n",
    "\n",
    "model_save_cb = ModelCheckpoint(filepath='Model/',\n",
    "                                verbose=1, save_best_only=False, monitor='val_loss', save_weights_only=False)\n",
    "earlystop = EarlyStopping(monitor='val_loss', min_delta=0, patience=10, verbose=0, mode='min')\n",
    "# reduce_learning_rate_cb = ReduceLROnPlateau(monitor='loss', factor=0.1, patience=2, cooldown=2, min_lr=0.00001, verbose=1)\n",
    "epoch_times = EpochTimeHistory()"
   ]
  },
  {
   "cell_type": "code",
   "execution_count": 23,
   "metadata": {
    "colab": {
     "base_uri": "https://localhost:8080/",
     "height": 34
    },
    "colab_type": "code",
    "executionInfo": {
     "elapsed": 186949,
     "status": "ok",
     "timestamp": 1595675772709,
     "user": {
      "displayName": "Naveen Kumar",
      "photoUrl": "https://lh3.googleusercontent.com/a-/AOh14Gh-hEIN3J2VMWXR8f83MWIqwxMlPCotdIa75Ds-YCo=s64",
      "userId": "06815297531880503883"
     },
     "user_tz": -330
    },
    "id": "2gZCj-MrehK1",
    "outputId": "afaa7339-6b23-4163-ee40-a92b512bae5e"
   },
   "outputs": [
    {
     "data": {
      "text/plain": [
       "(64, 87291, 4316)"
      ]
     },
     "execution_count": 23,
     "metadata": {},
     "output_type": "execute_result"
    }
   ],
   "source": [
    "batch_size, train_data.n, validation_data.n"
   ]
  },
  {
   "cell_type": "code",
   "execution_count": 24,
   "metadata": {
    "colab": {
     "base_uri": "https://localhost:8080/",
     "height": 1000
    },
    "colab_type": "code",
    "executionInfo": {
     "elapsed": 17001,
     "status": "ok",
     "timestamp": 1595688876894,
     "user": {
      "displayName": "Naveen Kumar",
      "photoUrl": "https://lh3.googleusercontent.com/a-/AOh14Gh-hEIN3J2VMWXR8f83MWIqwxMlPCotdIa75Ds-YCo=s64",
      "userId": "06815297531880503883"
     },
     "user_tz": -330
    },
    "id": "E4b4BM1_T7-O",
    "outputId": "8926f4c5-be18-4dbe-8840-7f5f5013b513",
    "scrolled": true
   },
   "outputs": [
    {
     "name": "stdout",
     "output_type": "stream",
     "text": [
      "Epoch 1/10\n",
      "WARNING:tensorflow:From C:\\Users\\KIIT\\anaconda3\\lib\\site-packages\\keras\\src\\utils\\tf_utils.py:492: The name tf.ragged.RaggedTensorValue is deprecated. Please use tf.compat.v1.ragged.RaggedTensorValue instead.\n",
      "\n",
      "1364/1363 [==============================] - ETA: 0s - loss: 9.4672 ;validation took 0.6888 minutes.\n",
      "\n",
      "Epoch 1: saving model to Model\\\n",
      "INFO:tensorflow:Assets written to: Model\\assets\n"
     ]
    },
    {
     "name": "stderr",
     "output_type": "stream",
     "text": [
      "INFO:tensorflow:Assets written to: Model\\assets\n"
     ]
    },
    {
     "name": "stdout",
     "output_type": "stream",
     "text": [
      " ;epoch 1 took 51.8995 minutes.\n",
      "1363/1363 [==============================] - 3114s 2s/step - loss: 9.4672 - val_loss: 5.8850\n",
      "Epoch 2/10\n",
      "1364/1363 [==============================] - ETA: 0s - loss: 3.1909 ;validation took 0.9104 minutes.\n",
      "\n",
      "Epoch 2: saving model to Model\\\n",
      "INFO:tensorflow:Assets written to: Model\\assets\n"
     ]
    },
    {
     "name": "stderr",
     "output_type": "stream",
     "text": [
      "INFO:tensorflow:Assets written to: Model\\assets\n"
     ]
    },
    {
     "name": "stdout",
     "output_type": "stream",
     "text": [
      " ;epoch 2 took 53.3979 minutes.\n",
      "1363/1363 [==============================] - 3204s 2s/step - loss: 3.1909 - val_loss: 2.6588\n",
      "Epoch 3/10\n",
      "1364/1363 [==============================] - ETA: 0s - loss: 2.1161 ;validation took 0.8176 minutes.\n",
      "\n",
      "Epoch 3: saving model to Model\\\n",
      "INFO:tensorflow:Assets written to: Model\\assets\n"
     ]
    },
    {
     "name": "stderr",
     "output_type": "stream",
     "text": [
      "INFO:tensorflow:Assets written to: Model\\assets\n"
     ]
    },
    {
     "name": "stdout",
     "output_type": "stream",
     "text": [
      " ;epoch 3 took 57.7473 minutes.\n",
      "1363/1363 [==============================] - 3465s 3s/step - loss: 2.1161 - val_loss: 2.0557\n",
      "Epoch 4/10\n",
      "1364/1363 [==============================] - ETA: 0s - loss: 1.6787 ;validation took 0.8549 minutes.\n",
      "\n",
      "Epoch 4: saving model to Model\\\n",
      "INFO:tensorflow:Assets written to: Model\\assets\n"
     ]
    },
    {
     "name": "stderr",
     "output_type": "stream",
     "text": [
      "INFO:tensorflow:Assets written to: Model\\assets\n"
     ]
    },
    {
     "name": "stdout",
     "output_type": "stream",
     "text": [
      " ;epoch 4 took 52.9954 minutes.\n",
      "1363/1363 [==============================] - 3180s 2s/step - loss: 1.6787 - val_loss: 2.2355\n",
      "Epoch 5/10\n",
      "1364/1363 [==============================] - ETA: 0s - loss: 1.3956 ;validation took 0.9979 minutes.\n",
      "\n",
      "Epoch 5: saving model to Model\\\n",
      "INFO:tensorflow:Assets written to: Model\\assets\n"
     ]
    },
    {
     "name": "stderr",
     "output_type": "stream",
     "text": [
      "INFO:tensorflow:Assets written to: Model\\assets\n"
     ]
    },
    {
     "name": "stdout",
     "output_type": "stream",
     "text": [
      " ;epoch 5 took 58.7971 minutes.\n",
      "1363/1363 [==============================] - 3528s 3s/step - loss: 1.3956 - val_loss: 1.4949\n",
      "Epoch 6/10\n",
      "1364/1363 [==============================] - ETA: 0s - loss: 1.2000 ;validation took 1.0053 minutes.\n",
      "\n",
      "Epoch 6: saving model to Model\\\n",
      "INFO:tensorflow:Assets written to: Model\\assets\n"
     ]
    },
    {
     "name": "stderr",
     "output_type": "stream",
     "text": [
      "INFO:tensorflow:Assets written to: Model\\assets\n"
     ]
    },
    {
     "name": "stdout",
     "output_type": "stream",
     "text": [
      " ;epoch 6 took 68.4679 minutes.\n",
      "1363/1363 [==============================] - 4108s 3s/step - loss: 1.2000 - val_loss: 2.5405\n",
      "Epoch 7/10\n",
      "1364/1363 [==============================] - ETA: 0s - loss: 1.0411 ;validation took 1.0193 minutes.\n",
      "\n",
      "Epoch 7: saving model to Model\\\n",
      "INFO:tensorflow:Assets written to: Model\\assets\n"
     ]
    },
    {
     "name": "stderr",
     "output_type": "stream",
     "text": [
      "INFO:tensorflow:Assets written to: Model\\assets\n"
     ]
    },
    {
     "name": "stdout",
     "output_type": "stream",
     "text": [
      " ;epoch 7 took 68.7068 minutes.\n",
      "1363/1363 [==============================] - 4122s 3s/step - loss: 1.0411 - val_loss: 1.0297\n",
      "Epoch 8/10\n",
      "1364/1363 [==============================] - ETA: 0s - loss: 0.9048 ;validation took 1.0004 minutes.\n",
      "\n",
      "Epoch 8: saving model to Model\\\n",
      "INFO:tensorflow:Assets written to: Model\\assets\n"
     ]
    },
    {
     "name": "stderr",
     "output_type": "stream",
     "text": [
      "INFO:tensorflow:Assets written to: Model\\assets\n"
     ]
    },
    {
     "name": "stdout",
     "output_type": "stream",
     "text": [
      " ;epoch 8 took 67.8953 minutes.\n",
      "1363/1363 [==============================] - 4074s 3s/step - loss: 0.9048 - val_loss: 0.9068\n",
      "Epoch 9/10\n",
      "1364/1363 [==============================] - ETA: 0s - loss: 0.7909 ;validation took 1.1047 minutes.\n",
      "\n",
      "Epoch 9: saving model to Model\\\n",
      "INFO:tensorflow:Assets written to: Model\\assets\n"
     ]
    },
    {
     "name": "stderr",
     "output_type": "stream",
     "text": [
      "INFO:tensorflow:Assets written to: Model\\assets\n"
     ]
    },
    {
     "name": "stdout",
     "output_type": "stream",
     "text": [
      " ;epoch 9 took 70.2413 minutes.\n",
      "1363/1363 [==============================] - 4214s 3s/step - loss: 0.7909 - val_loss: 15.5314\n",
      "Epoch 10/10\n",
      "1364/1363 [==============================] - ETA: 0s - loss: 0.7081 ;validation took 1.16 minutes.\n",
      "\n",
      "Epoch 10: saving model to Model\\\n",
      "INFO:tensorflow:Assets written to: Model\\assets\n"
     ]
    },
    {
     "name": "stderr",
     "output_type": "stream",
     "text": [
      "INFO:tensorflow:Assets written to: Model\\assets\n"
     ]
    },
    {
     "name": "stdout",
     "output_type": "stream",
     "text": [
      " ;epoch 10 took 77.2087 minutes.\n",
      "\b\b\b\b\b\b\b\b\b\b\b\b\b\b\b\b\b\b\b\b\b\b\b\b\b\b\b\b\b\b\b\b\b\b\b\b\b\b\b\b\b\b\b\b\b\b\b\b\b\b\b\b\b\b\b\b\b\b\b\b\b\b\b\b\b\b\b\r",
      "1363/1363 [==============================] - 4633s 3s/step - loss: 0.7081 - val_loss: 0.7792\n"
     ]
    }
   ],
   "source": [
    "history_model_3 = model.fit(train_data.next_batch(),\n",
    "                            validation_data=validation_data.next_batch(),\n",
    "                            steps_per_epoch=train_data.n/batch_size,\n",
    "                            validation_steps=validation_data.n // batch_size,\n",
    "                            epochs=10, verbose=1,\n",
    "                            callbacks=[earlystop, model_save_cb, epoch_times])"
   ]
  },
  {
   "cell_type": "code",
   "execution_count": 25,
   "metadata": {
    "colab": {
     "base_uri": "https://localhost:8080/",
     "height": 50
    },
    "colab_type": "code",
    "executionInfo": {
     "elapsed": 7149,
     "status": "ok",
     "timestamp": 1595689312193,
     "user": {
      "displayName": "Naveen Kumar",
      "photoUrl": "https://lh3.googleusercontent.com/a-/AOh14Gh-hEIN3J2VMWXR8f83MWIqwxMlPCotdIa75Ds-YCo=s64",
      "userId": "06815297531880503883"
     },
     "user_tz": -330
    },
    "id": "g1lgH_FKVEsv",
    "outputId": "68149872-53c8-4bfb-955b-cb0878e737c4"
   },
   "outputs": [
    {
     "name": "stdout",
     "output_type": "stream",
     "text": [
      "[WARNING] Model/ already exists - overwrite? [y/n]y\n",
      "[TIP] Next time specify overwrite=True!\n",
      "INFO:tensorflow:Assets written to: Model/assets\n"
     ]
    },
    {
     "name": "stderr",
     "output_type": "stream",
     "text": [
      "INFO:tensorflow:Assets written to: Model/assets\n"
     ]
    }
   ],
   "source": [
    "model.save(filepath='Model/', overwrite=False, include_optimizer=True)"
   ]
  },
  {
   "cell_type": "markdown",
   "metadata": {
    "colab_type": "text",
    "id": "EycN6u09NzVx"
   },
   "source": [
    "## plotting model statistics"
   ]
  },
  {
   "cell_type": "code",
   "execution_count": 26,
   "metadata": {
    "colab": {
     "base_uri": "https://localhost:8080/",
     "height": 70
    },
    "colab_type": "code",
    "executionInfo": {
     "elapsed": 1820,
     "status": "ok",
     "timestamp": 1595689069129,
     "user": {
      "displayName": "Naveen Kumar",
      "photoUrl": "https://lh3.googleusercontent.com/a-/AOh14Gh-hEIN3J2VMWXR8f83MWIqwxMlPCotdIa75Ds-YCo=s64",
      "userId": "06815297531880503883"
     },
     "user_tz": -330
    },
    "id": "_a3BQIEYeswK",
    "outputId": "d76f457a-5579-48b0-c27c-e1814b1d0101"
   },
   "outputs": [],
   "source": [
    "import seaborn as sns"
   ]
  },
  {
   "cell_type": "code",
   "execution_count": 27,
   "metadata": {
    "colab": {
     "base_uri": "https://localhost:8080/",
     "height": 464
    },
    "colab_type": "code",
    "executionInfo": {
     "elapsed": 2016,
     "status": "ok",
     "timestamp": 1595689076071,
     "user": {
      "displayName": "Naveen Kumar",
      "photoUrl": "https://lh3.googleusercontent.com/a-/AOh14Gh-hEIN3J2VMWXR8f83MWIqwxMlPCotdIa75Ds-YCo=s64",
      "userId": "06815297531880503883"
     },
     "user_tz": -330
    },
    "id": "EJOuTJN_W0br",
    "outputId": "85dd5374-5d93-4b5f-e68d-1ff327943363"
   },
   "outputs": [
    {
     "data": {
      "image/png": "[encoded data removed]",
      "text/plain": [
       "<Figure size 1400x700 with 1 Axes>"
      ]
     },
     "metadata": {},
     "output_type": "display_data"
    }
   ],
   "source": [
    "sns.set(rc={'figure.figsize':(14,7)})\n",
    "plt.plot(history_model_3.history['loss'])\n",
    "plt.plot(history_model_3.history['val_loss'])\n",
    "plt.title('model loss')\n",
    "plt.ylabel('loss')\n",
    "plt.xlabel('epoch')\n",
    "plt.legend(['train', 'val'], loc='best')\n",
    "plt.show()"
   ]
  },
  {
   "cell_type": "code",
   "execution_count": 28,
   "metadata": {
    "colab": {
     "base_uri": "https://localhost:8080/",
     "height": 34
    },
    "colab_type": "code",
    "executionInfo": {
     "elapsed": 1015,
     "status": "ok",
     "timestamp": 1595689094433,
     "user": {
      "displayName": "Naveen Kumar",
      "photoUrl": "https://lh3.googleusercontent.com/a-/AOh14Gh-hEIN3J2VMWXR8f83MWIqwxMlPCotdIa75Ds-YCo=s64",
      "userId": "06815297531880503883"
     },
     "user_tz": -330
    },
    "id": "i_oypp877bqx",
    "outputId": "a30f75bb-1b22-4a4d-8190-4584dfdfe58d"
   },
   "outputs": [
    {
     "data": {
      "text/plain": [
       "dict_keys(['loss', 'val_loss'])"
      ]
     },
     "execution_count": 28,
     "metadata": {},
     "output_type": "execute_result"
    }
   ],
   "source": [
    "history_model_3.history.keys()"
   ]
  },
  {
   "cell_type": "code",
   "execution_count": 29,
   "metadata": {
    "colab": {},
    "colab_type": "code",
    "executionInfo": {
     "elapsed": 848,
     "status": "ok",
     "timestamp": 1595689094923,
     "user": {
      "displayName": "Naveen Kumar",
      "photoUrl": "https://lh3.googleusercontent.com/a-/AOh14Gh-hEIN3J2VMWXR8f83MWIqwxMlPCotdIa75Ds-YCo=s64",
      "userId": "06815297531880503883"
     },
     "user_tz": -330
    },
    "id": "C-ll8y2i7Dux"
   },
   "outputs": [],
   "source": [
    "import pandas as pd"
   ]
  },
  {
   "cell_type": "code",
   "execution_count": 30,
   "metadata": {
    "colab": {
     "base_uri": "https://localhost:8080/",
     "height": 195
    },
    "colab_type": "code",
    "executionInfo": {
     "elapsed": 1329,
     "status": "ok",
     "timestamp": 1595689096021,
     "user": {
      "displayName": "Naveen Kumar",
      "photoUrl": "https://lh3.googleusercontent.com/a-/AOh14Gh-hEIN3J2VMWXR8f83MWIqwxMlPCotdIa75Ds-YCo=s64",
      "userId": "06815297531880503883"
     },
     "user_tz": -330
    },
    "id": "Mt8HYO4N78U8",
    "outputId": "3f82ae4b-0ba1-401a-daf4-6625e039fb3d"
   },
   "outputs": [
    {
     "data": {
      "text/html": [
       "<div>\n",
       "<style scoped>\n",
       "    .dataframe tbody tr th:only-of-type {\n",
       "        vertical-align: middle;\n",
       "    }\n",
       "\n",
       "    .dataframe tbody tr th {\n",
       "        vertical-align: top;\n",
       "    }\n",
       "\n",
       "    .dataframe thead th {\n",
       "        text-align: right;\n",
       "    }\n",
       "</style>\n",
       "<table border=\"1\" class=\"dataframe\">\n",
       "  <thead>\n",
       "    <tr style=\"text-align: right;\">\n",
       "      <th></th>\n",
       "      <th>loss</th>\n",
       "      <th>val_loss</th>\n",
       "    </tr>\n",
       "  </thead>\n",
       "  <tbody>\n",
       "    <tr>\n",
       "      <th>0</th>\n",
       "      <td>9.467205</td>\n",
       "      <td>5.885032</td>\n",
       "    </tr>\n",
       "    <tr>\n",
       "      <th>1</th>\n",
       "      <td>3.190926</td>\n",
       "      <td>2.658814</td>\n",
       "    </tr>\n",
       "    <tr>\n",
       "      <th>2</th>\n",
       "      <td>2.116050</td>\n",
       "      <td>2.055682</td>\n",
       "    </tr>\n",
       "    <tr>\n",
       "      <th>3</th>\n",
       "      <td>1.678729</td>\n",
       "      <td>2.235462</td>\n",
       "    </tr>\n",
       "    <tr>\n",
       "      <th>4</th>\n",
       "      <td>1.395586</td>\n",
       "      <td>1.494922</td>\n",
       "    </tr>\n",
       "  </tbody>\n",
       "</table>\n",
       "</div>"
      ],
      "text/plain": [
       "       loss  val_loss\n",
       "0  9.467205  5.885032\n",
       "1  3.190926  2.658814\n",
       "2  2.116050  2.055682\n",
       "3  1.678729  2.235462\n",
       "4  1.395586  1.494922"
      ]
     },
     "execution_count": 30,
     "metadata": {},
     "output_type": "execute_result"
    }
   ],
   "source": [
    "loss_df = pd.DataFrame(data=history_model_3.history)\n",
    "loss_df.head()"
   ]
  },
  {
   "cell_type": "code",
   "execution_count": 31,
   "metadata": {
    "colab": {
     "base_uri": "https://localhost:8080/",
     "height": 195
    },
    "colab_type": "code",
    "executionInfo": {
     "elapsed": 1183,
     "status": "ok",
     "timestamp": 1595689151132,
     "user": {
      "displayName": "Naveen Kumar",
      "photoUrl": "https://lh3.googleusercontent.com/a-/AOh14Gh-hEIN3J2VMWXR8f83MWIqwxMlPCotdIa75Ds-YCo=s64",
      "userId": "06815297531880503883"
     },
     "user_tz": -330
    },
    "id": "IAACJQLRfAh2",
    "outputId": "c36803c1-04ca-4bfb-86f4-14c888798b87"
   },
   "outputs": [
    {
     "data": {
      "text/html": [
       "<div>\n",
       "<style scoped>\n",
       "    .dataframe tbody tr th:only-of-type {\n",
       "        vertical-align: middle;\n",
       "    }\n",
       "\n",
       "    .dataframe tbody tr th {\n",
       "        vertical-align: top;\n",
       "    }\n",
       "\n",
       "    .dataframe thead th {\n",
       "        text-align: right;\n",
       "    }\n",
       "</style>\n",
       "<table border=\"1\" class=\"dataframe\">\n",
       "  <thead>\n",
       "    <tr style=\"text-align: right;\">\n",
       "      <th></th>\n",
       "      <th>loss</th>\n",
       "      <th>val_loss</th>\n",
       "    </tr>\n",
       "  </thead>\n",
       "  <tbody>\n",
       "    <tr>\n",
       "      <th>9</th>\n",
       "      <td>0.708135</td>\n",
       "      <td>0.779229</td>\n",
       "    </tr>\n",
       "    <tr>\n",
       "      <th>8</th>\n",
       "      <td>0.790920</td>\n",
       "      <td>15.531428</td>\n",
       "    </tr>\n",
       "    <tr>\n",
       "      <th>7</th>\n",
       "      <td>0.904842</td>\n",
       "      <td>0.906788</td>\n",
       "    </tr>\n",
       "    <tr>\n",
       "      <th>6</th>\n",
       "      <td>1.041070</td>\n",
       "      <td>1.029725</td>\n",
       "    </tr>\n",
       "    <tr>\n",
       "      <th>5</th>\n",
       "      <td>1.199981</td>\n",
       "      <td>2.540453</td>\n",
       "    </tr>\n",
       "  </tbody>\n",
       "</table>\n",
       "</div>"
      ],
      "text/plain": [
       "       loss   val_loss\n",
       "9  0.708135   0.779229\n",
       "8  0.790920  15.531428\n",
       "7  0.904842   0.906788\n",
       "6  1.041070   1.029725\n",
       "5  1.199981   2.540453"
      ]
     },
     "execution_count": 31,
     "metadata": {},
     "output_type": "execute_result"
    }
   ],
   "source": [
    "loss_df.sort_values(by=['loss', 'val_loss']).head()"
   ]
  },
  {
   "cell_type": "code",
   "execution_count": 32,
   "metadata": {
    "colab": {
     "base_uri": "https://localhost:8080/",
     "height": 195
    },
    "colab_type": "code",
    "executionInfo": {
     "elapsed": 1141,
     "status": "ok",
     "timestamp": 1595689117676,
     "user": {
      "displayName": "Naveen Kumar",
      "photoUrl": "https://lh3.googleusercontent.com/a-/AOh14Gh-hEIN3J2VMWXR8f83MWIqwxMlPCotdIa75Ds-YCo=s64",
      "userId": "06815297531880503883"
     },
     "user_tz": -330
    },
    "id": "AdDp-8jG8Gd7",
    "outputId": "520a7b20-4fee-4c17-898b-203b3299ae6a"
   },
   "outputs": [
    {
     "data": {
      "text/html": [
       "<div>\n",
       "<style scoped>\n",
       "    .dataframe tbody tr th:only-of-type {\n",
       "        vertical-align: middle;\n",
       "    }\n",
       "\n",
       "    .dataframe tbody tr th {\n",
       "        vertical-align: top;\n",
       "    }\n",
       "\n",
       "    .dataframe thead th {\n",
       "        text-align: right;\n",
       "    }\n",
       "</style>\n",
       "<table border=\"1\" class=\"dataframe\">\n",
       "  <thead>\n",
       "    <tr style=\"text-align: right;\">\n",
       "      <th></th>\n",
       "      <th>loss</th>\n",
       "      <th>val_loss</th>\n",
       "    </tr>\n",
       "  </thead>\n",
       "  <tbody>\n",
       "    <tr>\n",
       "      <th>9</th>\n",
       "      <td>0.708135</td>\n",
       "      <td>0.779229</td>\n",
       "    </tr>\n",
       "    <tr>\n",
       "      <th>7</th>\n",
       "      <td>0.904842</td>\n",
       "      <td>0.906788</td>\n",
       "    </tr>\n",
       "    <tr>\n",
       "      <th>6</th>\n",
       "      <td>1.041070</td>\n",
       "      <td>1.029725</td>\n",
       "    </tr>\n",
       "    <tr>\n",
       "      <th>4</th>\n",
       "      <td>1.395586</td>\n",
       "      <td>1.494922</td>\n",
       "    </tr>\n",
       "    <tr>\n",
       "      <th>2</th>\n",
       "      <td>2.116050</td>\n",
       "      <td>2.055682</td>\n",
       "    </tr>\n",
       "  </tbody>\n",
       "</table>\n",
       "</div>"
      ],
      "text/plain": [
       "       loss  val_loss\n",
       "9  0.708135  0.779229\n",
       "7  0.904842  0.906788\n",
       "6  1.041070  1.029725\n",
       "4  1.395586  1.494922\n",
       "2  2.116050  2.055682"
      ]
     },
     "execution_count": 32,
     "metadata": {},
     "output_type": "execute_result"
    }
   ],
   "source": [
    "loss_df.sort_values(by=['val_loss', 'loss']).head()"
   ]
  },
  {
   "cell_type": "markdown",
   "metadata": {
    "colab_type": "text",
    "id": "uObAhBrd8hwI"
   },
   "source": [
    "so, let's use the weights of 30th(labelled 29 above) and 28th(labelled 27 above) epochs."
   ]
  },
  {
   "cell_type": "markdown",
   "metadata": {
    "colab_type": "text",
    "id": "Ey46Cdq_SpJh"
   },
   "source": [
    "## predictions on test set and calculating WER & CER"
   ]
  },
  {
   "cell_type": "markdown",
   "metadata": {
    "colab_type": "text",
    "id": "rebDDZj7YeXy"
   },
   "source": [
    "make predictions using weights from various checkpoints, since that's the epoch with lowest train and validation error."
   ]
  },
  {
   "cell_type": "code",
   "execution_count": 33,
   "metadata": {
    "colab": {
     "base_uri": "https://localhost:8080/",
     "height": 410
    },
    "colab_type": "code",
    "executionInfo": {
     "elapsed": 1619,
     "status": "ok",
     "timestamp": 1595689170970,
     "user": {
      "displayName": "Naveen Kumar",
      "photoUrl": "https://lh3.googleusercontent.com/a-/AOh14Gh-hEIN3J2VMWXR8f83MWIqwxMlPCotdIa75Ds-YCo=s64",
      "userId": "06815297531880503883"
     },
     "user_tz": -330
    },
    "id": "ajetvs96cSEk",
    "outputId": "95d0f64f-e01c-42a4-c8e1-b36a97805954"
   },
   "outputs": [
    {
     "name": "stdout",
     "output_type": "stream",
     "text": [
      "biographies\n"
     ]
    },
    {
     "data": {
      "text/plain": [
       "<matplotlib.image.AxesImage at 0x1cec62f62e0>"
      ]
     },
     "execution_count": 33,
     "metadata": {},
     "output_type": "execute_result"
    },
    {
     "data": {
      "image/png": "[encoded data removed]",
      "text/plain": [
       "<Figure size 300x600 with 1 Axes>"
      ]
     },
     "metadata": {},
     "output_type": "display_data"
    }
   ],
   "source": [
    "sns.reset_orig()\n",
    "plt.figure(figsize=(3, 6))\n",
    "i = 1\n",
    "path=test_files[i][0]\n",
    "path=path[1:]\n",
    "print(test_files[i][1])\n",
    "temp_processed_image = preprocess(path, img_w=128, img_h=64)\n",
    "plt.imshow(temp_processed_image.T)"
   ]
  },
  {
   "cell_type": "code",
   "execution_count": 34,
   "metadata": {
    "colab": {},
    "colab_type": "code",
    "executionInfo": {
     "elapsed": 10627,
     "status": "ok",
     "timestamp": 1595689180979,
     "user": {
      "displayName": "Naveen Kumar",
      "photoUrl": "https://lh3.googleusercontent.com/a-/AOh14Gh-hEIN3J2VMWXR8f83MWIqwxMlPCotdIa75Ds-YCo=s64",
      "userId": "06815297531880503883"
     },
     "user_tz": -330
    },
    "id": "bmlTvqlec6lg"
   },
   "outputs": [],
   "source": [
    "test_images_processed = []\n",
    "original_test_texts = []\n",
    "for _, (test_image_path, original_test_text) in enumerate(test_files):\n",
    "     temp_processed_image = preprocess(path=test_image_path[1:], img_w=128, img_h=64)\n",
    "     test_images_processed.append(temp_processed_image.T)\n",
    "     original_test_texts.append(original_test_text)"
   ]
  },
  {
   "cell_type": "code",
   "execution_count": 35,
   "metadata": {
    "colab": {
     "base_uri": "https://localhost:8080/",
     "height": 67
    },
    "colab_type": "code",
    "executionInfo": {
     "elapsed": 1199,
     "status": "ok",
     "timestamp": 1595689182187,
     "user": {
      "displayName": "Naveen Kumar",
      "photoUrl": "https://lh3.googleusercontent.com/a-/AOh14Gh-hEIN3J2VMWXR8f83MWIqwxMlPCotdIa75Ds-YCo=s64",
      "userId": "06815297531880503883"
     },
     "user_tz": -330
    },
    "id": "myzKjOfxfWT9",
    "outputId": "d3fb3319-5d68-4448-c6ca-c0ca750dc206"
   },
   "outputs": [
    {
     "name": "stdout",
     "output_type": "stream",
     "text": [
      "4316\n",
      "4316\n",
      "4316\n"
     ]
    }
   ],
   "source": [
    "print(len(test_files))\n",
    "print(len(test_images_processed))\n",
    "print(len(original_test_texts))"
   ]
  },
  {
   "cell_type": "code",
   "execution_count": 36,
   "metadata": {
    "colab": {
     "base_uri": "https://localhost:8080/",
     "height": 34
    },
    "colab_type": "code",
    "executionInfo": {
     "elapsed": 2351,
     "status": "ok",
     "timestamp": 1595689183347,
     "user": {
      "displayName": "Naveen Kumar",
      "photoUrl": "https://lh3.googleusercontent.com/a-/AOh14Gh-hEIN3J2VMWXR8f83MWIqwxMlPCotdIa75Ds-YCo=s64",
      "userId": "06815297531880503883"
     },
     "user_tz": -330
    },
    "id": "kBy4cTXoei-z",
    "outputId": "d45c0cb4-5a44-42b8-b439-42d2a864f80f"
   },
   "outputs": [
    {
     "data": {
      "text/plain": [
       "(4316, 128, 64)"
      ]
     },
     "execution_count": 36,
     "metadata": {},
     "output_type": "execute_result"
    }
   ],
   "source": [
    "test_images_processed = np.array(test_images_processed)\n",
    "test_images_processed.shape"
   ]
  },
  {
   "cell_type": "code",
   "execution_count": 37,
   "metadata": {
    "colab": {
     "base_uri": "https://localhost:8080/",
     "height": 34
    },
    "colab_type": "code",
    "executionInfo": {
     "elapsed": 2343,
     "status": "ok",
     "timestamp": 1595689183348,
     "user": {
      "displayName": "Naveen Kumar",
      "photoUrl": "https://lh3.googleusercontent.com/a-/AOh14Gh-hEIN3J2VMWXR8f83MWIqwxMlPCotdIa75Ds-YCo=s64",
      "userId": "06815297531880503883"
     },
     "user_tz": -330
    },
    "id": "p5n3s_z-f00S",
    "outputId": "cd8bf54d-1e2b-4b48-b2a1-9474d5efccc5"
   },
   "outputs": [
    {
     "data": {
      "text/plain": [
       "(4316, 128, 64, 1)"
      ]
     },
     "execution_count": 37,
     "metadata": {},
     "output_type": "execute_result"
    }
   ],
   "source": [
    "test_images_processed = test_images_processed.reshape(4316, 128, 64, 1)\n",
    "test_images_processed.shape"
   ]
  },
  {
   "cell_type": "code",
   "execution_count": 38,
   "metadata": {
    "colab": {
     "base_uri": "https://localhost:8080/",
     "height": 410
    },
    "colab_type": "code",
    "executionInfo": {
     "elapsed": 2336,
     "status": "ok",
     "timestamp": 1595689183349,
     "user": {
      "displayName": "Naveen Kumar",
      "photoUrl": "https://lh3.googleusercontent.com/a-/AOh14Gh-hEIN3J2VMWXR8f83MWIqwxMlPCotdIa75Ds-YCo=s64",
      "userId": "06815297531880503883"
     },
     "user_tz": -330
    },
    "id": "18qN4urf9isv",
    "outputId": "b6fb4e82-8099-4c79-d663-c08829a4ffca"
   },
   "outputs": [
    {
     "name": "stdout",
     "output_type": "stream",
     "text": [
      "biographies\n"
     ]
    },
    {
     "data": {
      "text/plain": [
       "<matplotlib.image.AxesImage at 0x1ce3df934c0>"
      ]
     },
     "execution_count": 38,
     "metadata": {},
     "output_type": "execute_result"
    },
    {
     "data": {
      "image/png": "[encoded data removed]",
      "text/plain": [
       "<Figure size 300x600 with 1 Axes>"
      ]
     },
     "metadata": {},
     "output_type": "display_data"
    }
   ],
   "source": [
    "sns.reset_orig()\n",
    "plt.figure(figsize=(3, 6))\n",
    "i = 1\n",
    "print(test_files[i][1])\n",
    "plt.imshow(test_images_processed[i].reshape(128,64))"
   ]
  },
  {
   "cell_type": "markdown",
   "metadata": {
    "colab_type": "text",
    "id": "VnsWfF_UgN3Q"
   },
   "source": [
    "### iam with weights of final and 30th epoch. (the one with least loss on train data)"
   ]
  },
  {
   "cell_type": "code",
   "execution_count": 39,
   "metadata": {
    "colab": {
     "base_uri": "https://localhost:8080/",
     "height": 1000
    },
    "colab_type": "code",
    "executionInfo": {
     "elapsed": 1534,
     "status": "ok",
     "timestamp": 1595689183350,
     "user": {
      "displayName": "Naveen Kumar",
      "photoUrl": "https://lh3.googleusercontent.com/a-/AOh14Gh-hEIN3J2VMWXR8f83MWIqwxMlPCotdIa75Ds-YCo=s64",
      "userId": "06815297531880503883"
     },
     "user_tz": -330
    },
    "id": "nGNSsMJ3YdiK",
    "outputId": "0064f51e-449a-459b-a51d-6391e9a7e03d"
   },
   "outputs": [
    {
     "name": "stdout",
     "output_type": "stream",
     "text": [
      "Model: \"model_1\"\n",
      "__________________________________________________________________________________________________\n",
      " Layer (type)                Output Shape                 Param #   Connected to                  \n",
      "==================================================================================================\n",
      " the_input (InputLayer)      [(None, 128, 64, 1)]         0         []                            \n",
      "                                                                                                  \n",
      " conv1 (Conv2D)              (None, 128, 64, 64)          640       ['the_input[0][0]']           \n",
      "                                                                                                  \n",
      " batch_normalization (Batch  (None, 128, 64, 64)          256       ['conv1[0][0]']               \n",
      " Normalization)                                                                                   \n",
      "                                                                                                  \n",
      " activation (Activation)     (None, 128, 64, 64)          0         ['batch_normalization[0][0]'] \n",
      "                                                                                                  \n",
      " max1 (MaxPooling2D)         (None, 64, 32, 64)           0         ['activation[0][0]']          \n",
      "                                                                                                  \n",
      " conv2 (Conv2D)              (None, 64, 32, 128)          73856     ['max1[0][0]']                \n",
      "                                                                                                  \n",
      " batch_normalization_1 (Bat  (None, 64, 32, 128)          512       ['conv2[0][0]']               \n",
      " chNormalization)                                                                                 \n",
      "                                                                                                  \n",
      " activation_1 (Activation)   (None, 64, 32, 128)          0         ['batch_normalization_1[0][0]'\n",
      "                                                                    ]                             \n",
      "                                                                                                  \n",
      " max2 (MaxPooling2D)         (None, 32, 16, 128)          0         ['activation_1[0][0]']        \n",
      "                                                                                                  \n",
      " conv3 (Conv2D)              (None, 32, 16, 256)          295168    ['max2[0][0]']                \n",
      "                                                                                                  \n",
      " batch_normalization_2 (Bat  (None, 32, 16, 256)          1024      ['conv3[0][0]']               \n",
      " chNormalization)                                                                                 \n",
      "                                                                                                  \n",
      " activation_2 (Activation)   (None, 32, 16, 256)          0         ['batch_normalization_2[0][0]'\n",
      "                                                                    ]                             \n",
      "                                                                                                  \n",
      " conv4 (Conv2D)              (None, 32, 16, 256)          590080    ['activation_2[0][0]']        \n",
      "                                                                                                  \n",
      " batch_normalization_3 (Bat  (None, 32, 16, 256)          1024      ['conv4[0][0]']               \n",
      " chNormalization)                                                                                 \n",
      "                                                                                                  \n",
      " activation_3 (Activation)   (None, 32, 16, 256)          0         ['batch_normalization_3[0][0]'\n",
      "                                                                    ]                             \n",
      "                                                                                                  \n",
      " max3 (MaxPooling2D)         (None, 32, 8, 256)           0         ['activation_3[0][0]']        \n",
      "                                                                                                  \n",
      " conv5 (Conv2D)              (None, 32, 8, 512)           1180160   ['max3[0][0]']                \n",
      "                                                                                                  \n",
      " batch_normalization_4 (Bat  (None, 32, 8, 512)           2048      ['conv5[0][0]']               \n",
      " chNormalization)                                                                                 \n",
      "                                                                                                  \n",
      " activation_4 (Activation)   (None, 32, 8, 512)           0         ['batch_normalization_4[0][0]'\n",
      "                                                                    ]                             \n",
      "                                                                                                  \n",
      " conv6 (Conv2D)              (None, 32, 8, 512)           2359808   ['activation_4[0][0]']        \n",
      "                                                                                                  \n",
      " batch_normalization_5 (Bat  (None, 32, 8, 512)           2048      ['conv6[0][0]']               \n",
      " chNormalization)                                                                                 \n",
      "                                                                                                  \n",
      " activation_5 (Activation)   (None, 32, 8, 512)           0         ['batch_normalization_5[0][0]'\n",
      "                                                                    ]                             \n",
      "                                                                                                  \n",
      " max4 (MaxPooling2D)         (None, 32, 4, 512)           0         ['activation_5[0][0]']        \n",
      "                                                                                                  \n",
      " con7 (Conv2D)               (None, 32, 4, 512)           1049088   ['max4[0][0]']                \n",
      "                                                                                                  \n",
      " batch_normalization_6 (Bat  (None, 32, 4, 512)           2048      ['con7[0][0]']                \n",
      " chNormalization)                                                                                 \n",
      "                                                                                                  \n",
      " activation_6 (Activation)   (None, 32, 4, 512)           0         ['batch_normalization_6[0][0]'\n",
      "                                                                    ]                             \n",
      "                                                                                                  \n",
      " reshape (Reshape)           (None, 32, 2048)             0         ['activation_6[0][0]']        \n",
      "                                                                                                  \n",
      " dense1 (Dense)              (None, 32, 64)               131136    ['reshape[0][0]']             \n",
      "                                                                                                  \n",
      " gru1_b (GRU)                (None, 32, 256)              247296    ['dense1[0][0]']              \n",
      "                                                                                                  \n",
      " gru1 (GRU)                  (None, 32, 256)              247296    ['dense1[0][0]']              \n",
      "                                                                                                  \n",
      " lambda (Lambda)             (None, 32, 256)              0         ['gru1_b[0][0]']              \n",
      "                                                                                                  \n",
      " add (Add)                   (None, 32, 256)              0         ['gru1[0][0]',                \n",
      "                                                                     'lambda[0][0]']              \n",
      "                                                                                                  \n",
      " batch_normalization_7 (Bat  (None, 32, 256)              1024      ['add[0][0]']                 \n",
      " chNormalization)                                                                                 \n"
     ]
    },
    {
     "name": "stdout",
     "output_type": "stream",
     "text": [
      "                                                                                                  \n",
      " gru2_b (GRU)                (None, 32, 256)              394752    ['batch_normalization_7[0][0]'\n",
      "                                                                    ]                             \n",
      "                                                                                                  \n",
      " gru2 (GRU)                  (None, 32, 256)              394752    ['batch_normalization_7[0][0]'\n",
      "                                                                    ]                             \n",
      "                                                                                                  \n",
      " lambda_1 (Lambda)           (None, 32, 256)              0         ['gru2_b[0][0]']              \n",
      "                                                                                                  \n",
      " concatenate (Concatenate)   (None, 32, 512)              0         ['gru2[0][0]',                \n",
      "                                                                     'lambda_1[0][0]']            \n",
      "                                                                                                  \n",
      " batch_normalization_8 (Bat  (None, 32, 512)              2048      ['concatenate[0][0]']         \n",
      " chNormalization)                                                                                 \n",
      "                                                                                                  \n",
      " dense2 (Dense)              (None, 32, 80)               41040     ['batch_normalization_8[0][0]'\n",
      "                                                                    ]                             \n",
      "                                                                                                  \n",
      " softmax (Activation)        (None, 32, 80)               0         ['dense2[0][0]']              \n",
      "                                                                                                  \n",
      "==================================================================================================\n",
      "Total params: 7017104 (26.77 MB)\n",
      "Trainable params: 7011088 (26.75 MB)\n",
      "Non-trainable params: 6016 (23.50 KB)\n",
      "__________________________________________________________________________________________________\n"
     ]
    }
   ],
   "source": [
    "iam_model_pred = Model(inputs=input_data, outputs=iam_outputs)\n",
    "iam_model_pred.summary()"
   ]
  },
  {
   "cell_type": "code",
   "execution_count": 40,
   "metadata": {
    "colab": {},
    "colab_type": "code",
    "executionInfo": {
     "elapsed": 23477,
     "status": "ok",
     "timestamp": 1595689353277,
     "user": {
      "displayName": "Naveen Kumar",
      "photoUrl": "https://lh3.googleusercontent.com/a-/AOh14Gh-hEIN3J2VMWXR8f83MWIqwxMlPCotdIa75Ds-YCo=s64",
      "userId": "06815297531880503883"
     },
     "user_tz": -330
    },
    "id": "sm3TPzRXasYp"
   },
   "outputs": [
    {
     "data": {
      "text/plain": [
       "<tensorflow.python.checkpoint.checkpoint.CheckpointLoadStatus at 0x1ce371f0520>"
      ]
     },
     "execution_count": 40,
     "metadata": {},
     "output_type": "execute_result"
    }
   ],
   "source": [
    "iam_model_pred.load_weights(filepath='Model')"
   ]
  },
  {
   "cell_type": "code",
   "execution_count": 41,
   "metadata": {
    "colab": {
     "base_uri": "https://localhost:8080/",
     "height": 34
    },
    "colab_type": "code",
    "executionInfo": {
     "elapsed": 11125,
     "status": "ok",
     "timestamp": 1595689370570,
     "user": {
      "displayName": "Naveen Kumar",
      "photoUrl": "https://lh3.googleusercontent.com/a-/AOh14Gh-hEIN3J2VMWXR8f83MWIqwxMlPCotdIa75Ds-YCo=s64",
      "userId": "06815297531880503883"
     },
     "user_tz": -330
    },
    "id": "pBJ9W1ysa5PE",
    "outputId": "e162e956-8e92-4de9-dcad-7de8a1261245"
   },
   "outputs": [
    {
     "name": "stdout",
     "output_type": "stream",
     "text": [
      "135/135 [==============================] - 95s 694ms/step\n"
     ]
    },
    {
     "data": {
      "text/plain": [
       "(4316, 32, 80)"
      ]
     },
     "execution_count": 41,
     "metadata": {},
     "output_type": "execute_result"
    }
   ],
   "source": [
    "test_predictions_encoded = iam_model_pred.predict(x=test_images_processed)\n",
    "test_predictions_encoded.shape"
   ]
  },
  {
   "cell_type": "code",
   "execution_count": 42,
   "metadata": {
    "colab": {
     "base_uri": "https://localhost:8080/",
     "height": 104
    },
    "colab_type": "code",
    "executionInfo": {
     "elapsed": 10315,
     "status": "ok",
     "timestamp": 1595689370571,
     "user": {
      "displayName": "Naveen Kumar",
      "photoUrl": "https://lh3.googleusercontent.com/a-/AOh14Gh-hEIN3J2VMWXR8f83MWIqwxMlPCotdIa75Ds-YCo=s64",
      "userId": "06815297531880503883"
     },
     "user_tz": -330
    },
    "id": "ojaGQiMYgb1M",
    "outputId": "bd63c6f1-c409-40ef-c938-ec90279c84a9"
   },
   "outputs": [
    {
     "data": {
      "text/plain": [
       "(4316, 32)"
      ]
     },
     "execution_count": 42,
     "metadata": {},
     "output_type": "execute_result"
    }
   ],
   "source": [
    "# use CTC decoder to decode to text\n",
    "test_predictions_decoded = tf_keras_backend.get_value(tf_keras_backend.ctc_decode(test_predictions_encoded,\n",
    "                                                                                  input_length = np.ones(test_predictions_encoded.shape[0])*test_predictions_encoded.shape[1],\n",
    "                                                                                  greedy=True)[0][0])\n",
    "test_predictions_decoded.shape"
   ]
  },
  {
   "cell_type": "code",
   "execution_count": 43,
   "metadata": {
    "colab": {},
    "colab_type": "code",
    "executionInfo": {
     "elapsed": 5982,
     "status": "ok",
     "timestamp": 1595689370571,
     "user": {
      "displayName": "Naveen Kumar",
      "photoUrl": "https://lh3.googleusercontent.com/a-/AOh14Gh-hEIN3J2VMWXR8f83MWIqwxMlPCotdIa75Ds-YCo=s64",
      "userId": "06815297531880503883"
     },
     "user_tz": -330
    },
    "id": "7u0TO-Y3gvtA"
   },
   "outputs": [],
   "source": [
    "def numbered_array_to_text(numbered_array):\n",
    "    numbered_array = numbered_array[numbered_array != -1]\n",
    "    return \"\".join(letters[i] for i in numbered_array)"
   ]
  },
  {
   "cell_type": "code",
   "execution_count": 44,
   "metadata": {
    "colab": {
     "base_uri": "https://localhost:8080/",
     "height": 521
    },
    "colab_type": "code",
    "executionInfo": {
     "elapsed": 5027,
     "status": "ok",
     "timestamp": 1595689370572,
     "user": {
      "displayName": "Naveen Kumar",
      "photoUrl": "https://lh3.googleusercontent.com/a-/AOh14Gh-hEIN3J2VMWXR8f83MWIqwxMlPCotdIa75Ds-YCo=s64",
      "userId": "06815297531880503883"
     },
     "user_tz": -330
    },
    "id": "ttNBrifAiL-k",
    "outputId": "ea6b2ff5-63b6-4d36-c88a-f18b79156ee9"
   },
   "outputs": [
    {
     "name": "stdout",
     "output_type": "stream",
     "text": [
      "original_text =  certain\n",
      "predicted text =  scentain\n",
      "\n",
      "original_text =  biographies\n",
      "predicted text =  jisiographies\n",
      "\n",
      "original_text =  all\n",
      "predicted text =  zall\n",
      "\n",
      "original_text =  It\n",
      "predicted text =  It\n",
      "\n",
      "original_text =  I\n",
      "predicted text =  I\n",
      "\n",
      "original_text =  show\n",
      "predicted text =  show\n",
      "\n",
      "original_text =  Kings\n",
      "predicted text =  Kings\n",
      "\n",
      "original_text =  A\n",
      "predicted text =  A\n",
      "\n",
      "original_text =  the\n",
      "predicted text =  Tthe\n",
      "\n",
      "original_text =  and\n",
      "predicted text =  zand\n",
      "\n"
     ]
    }
   ],
   "source": [
    "for i in range(10):\n",
    "    print(\"original_text = \", original_test_texts[i])\n",
    "    print(\"predicted text = \", numbered_array_to_text(test_predictions_decoded[i]))\n",
    "    print()"
   ]
  },
  {
   "cell_type": "markdown",
   "metadata": {
    "colab_type": "text",
    "id": "bK69wXlYgsGi"
   },
   "source": [
    "### with weights of 28th epoch (the one with the least loss of validation data)"
   ]
  },
  {
   "cell_type": "code",
   "execution_count": 45,
   "metadata": {
    "colab": {
     "base_uri": "https://localhost:8080/",
     "height": 1000
    },
    "colab_type": "code",
    "executionInfo": {
     "elapsed": 1555,
     "status": "ok",
     "timestamp": 1595689606615,
     "user": {
      "displayName": "Naveen Kumar",
      "photoUrl": "https://lh3.googleusercontent.com/a-/AOh14Gh-hEIN3J2VMWXR8f83MWIqwxMlPCotdIa75Ds-YCo=s64",
      "userId": "06815297531880503883"
     },
     "user_tz": -330
    },
    "id": "M2QzQEEVgvE_",
    "outputId": "c5ae0776-cd34-4366-b590-c243256faf09"
   },
   "outputs": [
    {
     "name": "stdout",
     "output_type": "stream",
     "text": [
      "Model: \"model_2\"\n",
      "__________________________________________________________________________________________________\n",
      " Layer (type)                Output Shape                 Param #   Connected to                  \n",
      "==================================================================================================\n",
      " the_input (InputLayer)      [(None, 128, 64, 1)]         0         []                            \n",
      "                                                                                                  \n",
      " conv1 (Conv2D)              (None, 128, 64, 64)          640       ['the_input[0][0]']           \n",
      "                                                                                                  \n",
      " batch_normalization (Batch  (None, 128, 64, 64)          256       ['conv1[0][0]']               \n",
      " Normalization)                                                                                   \n",
      "                                                                                                  \n",
      " activation (Activation)     (None, 128, 64, 64)          0         ['batch_normalization[0][0]'] \n",
      "                                                                                                  \n",
      " max1 (MaxPooling2D)         (None, 64, 32, 64)           0         ['activation[0][0]']          \n",
      "                                                                                                  \n",
      " conv2 (Conv2D)              (None, 64, 32, 128)          73856     ['max1[0][0]']                \n",
      "                                                                                                  \n",
      " batch_normalization_1 (Bat  (None, 64, 32, 128)          512       ['conv2[0][0]']               \n",
      " chNormalization)                                                                                 \n",
      "                                                                                                  \n",
      " activation_1 (Activation)   (None, 64, 32, 128)          0         ['batch_normalization_1[0][0]'\n",
      "                                                                    ]                             \n",
      "                                                                                                  \n",
      " max2 (MaxPooling2D)         (None, 32, 16, 128)          0         ['activation_1[0][0]']        \n",
      "                                                                                                  \n",
      " conv3 (Conv2D)              (None, 32, 16, 256)          295168    ['max2[0][0]']                \n",
      "                                                                                                  \n",
      " batch_normalization_2 (Bat  (None, 32, 16, 256)          1024      ['conv3[0][0]']               \n",
      " chNormalization)                                                                                 \n",
      "                                                                                                  \n",
      " activation_2 (Activation)   (None, 32, 16, 256)          0         ['batch_normalization_2[0][0]'\n",
      "                                                                    ]                             \n",
      "                                                                                                  \n",
      " conv4 (Conv2D)              (None, 32, 16, 256)          590080    ['activation_2[0][0]']        \n",
      "                                                                                                  \n",
      " batch_normalization_3 (Bat  (None, 32, 16, 256)          1024      ['conv4[0][0]']               \n",
      " chNormalization)                                                                                 \n",
      "                                                                                                  \n",
      " activation_3 (Activation)   (None, 32, 16, 256)          0         ['batch_normalization_3[0][0]'\n",
      "                                                                    ]                             \n",
      "                                                                                                  \n",
      " max3 (MaxPooling2D)         (None, 32, 8, 256)           0         ['activation_3[0][0]']        \n",
      "                                                                                                  \n",
      " conv5 (Conv2D)              (None, 32, 8, 512)           1180160   ['max3[0][0]']                \n",
      "                                                                                                  \n",
      " batch_normalization_4 (Bat  (None, 32, 8, 512)           2048      ['conv5[0][0]']               \n",
      " chNormalization)                                                                                 \n",
      "                                                                                                  \n",
      " activation_4 (Activation)   (None, 32, 8, 512)           0         ['batch_normalization_4[0][0]'\n",
      "                                                                    ]                             \n",
      "                                                                                                  \n",
      " conv6 (Conv2D)              (None, 32, 8, 512)           2359808   ['activation_4[0][0]']        \n",
      "                                                                                                  \n",
      " batch_normalization_5 (Bat  (None, 32, 8, 512)           2048      ['conv6[0][0]']               \n",
      " chNormalization)                                                                                 \n",
      "                                                                                                  \n",
      " activation_5 (Activation)   (None, 32, 8, 512)           0         ['batch_normalization_5[0][0]'\n",
      "                                                                    ]                             \n",
      "                                                                                                  \n",
      " max4 (MaxPooling2D)         (None, 32, 4, 512)           0         ['activation_5[0][0]']        \n",
      "                                                                                                  \n",
      " con7 (Conv2D)               (None, 32, 4, 512)           1049088   ['max4[0][0]']                \n",
      "                                                                                                  \n",
      " batch_normalization_6 (Bat  (None, 32, 4, 512)           2048      ['con7[0][0]']                \n",
      " chNormalization)                                                                                 \n",
      "                                                                                                  \n",
      " activation_6 (Activation)   (None, 32, 4, 512)           0         ['batch_normalization_6[0][0]'\n",
      "                                                                    ]                             \n",
      "                                                                                                  \n",
      " reshape (Reshape)           (None, 32, 2048)             0         ['activation_6[0][0]']        \n",
      "                                                                                                  \n",
      " dense1 (Dense)              (None, 32, 64)               131136    ['reshape[0][0]']             \n",
      "                                                                                                  \n",
      " gru1_b (GRU)                (None, 32, 256)              247296    ['dense1[0][0]']              \n",
      "                                                                                                  \n",
      " gru1 (GRU)                  (None, 32, 256)              247296    ['dense1[0][0]']              \n",
      "                                                                                                  \n",
      " lambda (Lambda)             (None, 32, 256)              0         ['gru1_b[0][0]']              \n",
      "                                                                                                  \n",
      " add (Add)                   (None, 32, 256)              0         ['gru1[0][0]',                \n",
      "                                                                     'lambda[0][0]']              \n",
      "                                                                                                  \n",
      " batch_normalization_7 (Bat  (None, 32, 256)              1024      ['add[0][0]']                 \n",
      " chNormalization)                                                                                 \n"
     ]
    },
    {
     "name": "stdout",
     "output_type": "stream",
     "text": [
      "                                                                                                  \n",
      " gru2_b (GRU)                (None, 32, 256)              394752    ['batch_normalization_7[0][0]'\n",
      "                                                                    ]                             \n",
      "                                                                                                  \n",
      " gru2 (GRU)                  (None, 32, 256)              394752    ['batch_normalization_7[0][0]'\n",
      "                                                                    ]                             \n",
      "                                                                                                  \n",
      " lambda_1 (Lambda)           (None, 32, 256)              0         ['gru2_b[0][0]']              \n",
      "                                                                                                  \n",
      " concatenate (Concatenate)   (None, 32, 512)              0         ['gru2[0][0]',                \n",
      "                                                                     'lambda_1[0][0]']            \n",
      "                                                                                                  \n",
      " batch_normalization_8 (Bat  (None, 32, 512)              2048      ['concatenate[0][0]']         \n",
      " chNormalization)                                                                                 \n",
      "                                                                                                  \n",
      " dense2 (Dense)              (None, 32, 80)               41040     ['batch_normalization_8[0][0]'\n",
      "                                                                    ]                             \n",
      "                                                                                                  \n",
      " softmax (Activation)        (None, 32, 80)               0         ['dense2[0][0]']              \n",
      "                                                                                                  \n",
      "==================================================================================================\n",
      "Total params: 7017104 (26.77 MB)\n",
      "Trainable params: 7011088 (26.75 MB)\n",
      "Non-trainable params: 6016 (23.50 KB)\n",
      "__________________________________________________________________________________________________\n"
     ]
    }
   ],
   "source": [
    "iam_model_pred = None\n",
    "iam_model_pred = Model(inputs=input_data, outputs=iam_outputs)\n",
    "iam_model_pred.summary()"
   ]
  },
  {
   "cell_type": "code",
   "execution_count": 46,
   "metadata": {
    "colab": {},
    "colab_type": "code",
    "executionInfo": {
     "elapsed": 6044,
     "status": "ok",
     "timestamp": 1595689725052,
     "user": {
      "displayName": "Naveen Kumar",
      "photoUrl": "https://lh3.googleusercontent.com/a-/AOh14Gh-hEIN3J2VMWXR8f83MWIqwxMlPCotdIa75Ds-YCo=s64",
      "userId": "06815297531880503883"
     },
     "user_tz": -330
    },
    "id": "5ybjfql5gxdL"
   },
   "outputs": [
    {
     "data": {
      "text/plain": [
       "<tensorflow.python.checkpoint.checkpoint.CheckpointLoadStatus at 0x1ce3e276a60>"
      ]
     },
     "execution_count": 46,
     "metadata": {},
     "output_type": "execute_result"
    }
   ],
   "source": [
    "iam_model_pred.load_weights(filepath='Model')"
   ]
  },
  {
   "cell_type": "code",
   "execution_count": 47,
   "metadata": {
    "colab": {},
    "colab_type": "code",
    "executionInfo": {
     "elapsed": 1050,
     "status": "ok",
     "timestamp": 1595689941506,
     "user": {
      "displayName": "Naveen Kumar",
      "photoUrl": "https://lh3.googleusercontent.com/a-/AOh14Gh-hEIN3J2VMWXR8f83MWIqwxMlPCotdIa75Ds-YCo=s64",
      "userId": "06815297531880503883"
     },
     "user_tz": -330
    },
    "id": "7VIikPSMhZEt"
   },
   "outputs": [],
   "source": [
    "test_predictions_encoded = None\n",
    "test_predictions_decoded = None"
   ]
  },
  {
   "cell_type": "code",
   "execution_count": 48,
   "metadata": {
    "colab": {
     "base_uri": "https://localhost:8080/",
     "height": 34
    },
    "colab_type": "code",
    "executionInfo": {
     "elapsed": 9684,
     "status": "ok",
     "timestamp": 1595689852204,
     "user": {
      "displayName": "Naveen Kumar",
      "photoUrl": "https://lh3.googleusercontent.com/a-/AOh14Gh-hEIN3J2VMWXR8f83MWIqwxMlPCotdIa75Ds-YCo=s64",
      "userId": "06815297531880503883"
     },
     "user_tz": -330
    },
    "id": "f4wewfNuhNSK",
    "outputId": "1638a4d0-0880-4c74-bbe9-93ca0657bbee"
   },
   "outputs": [
    {
     "name": "stdout",
     "output_type": "stream",
     "text": [
      "135/135 [==============================] - 76s 550ms/step\n"
     ]
    },
    {
     "data": {
      "text/plain": [
       "(4316, 32)"
      ]
     },
     "execution_count": 48,
     "metadata": {},
     "output_type": "execute_result"
    }
   ],
   "source": [
    "test_predictions_encoded = iam_model_pred.predict(x=test_images_processed)\n",
    "# use CTC decoder to decode to text\n",
    "test_predictions_decoded = tf_keras_backend.get_value(tf_keras_backend.ctc_decode(test_predictions_encoded,\n",
    "                                                                                  input_length = np.ones(test_predictions_encoded.shape[0])*test_predictions_encoded.shape[1],\n",
    "                                                                                  greedy=True)[0][0])\n",
    "test_predictions_decoded.shape"
   ]
  },
  {
   "cell_type": "code",
   "execution_count": 51,
   "metadata": {
    "colab": {
     "base_uri": "https://localhost:8080/",
     "height": 521
    },
    "colab_type": "code",
    "executionInfo": {
     "elapsed": 963,
     "status": "ok",
     "timestamp": 1595689857815,
     "user": {
      "displayName": "Naveen Kumar",
      "photoUrl": "https://lh3.googleusercontent.com/a-/AOh14Gh-hEIN3J2VMWXR8f83MWIqwxMlPCotdIa75Ds-YCo=s64",
      "userId": "06815297531880503883"
     },
     "user_tz": -330
    },
    "id": "ooSSUpw7hYN8",
    "outputId": "e6ec1543-1cbe-4ef0-c233-d5b5e5eace00"
   },
   "outputs": [
    {
     "name": "stdout",
     "output_type": "stream",
     "text": [
      "original_text =  certain\n",
      "predicted text =  scentain\n",
      "\n",
      "original_text =  biographies\n",
      "predicted text =  jisiographies\n",
      "\n",
      "original_text =  all\n",
      "predicted text =  zall\n",
      "\n",
      "original_text =  It\n",
      "predicted text =  It\n",
      "\n",
      "original_text =  I\n",
      "predicted text =  I\n",
      "\n",
      "original_text =  show\n",
      "predicted text =  show\n",
      "\n",
      "original_text =  Kings\n",
      "predicted text =  Kings\n",
      "\n",
      "original_text =  A\n",
      "predicted text =  A\n",
      "\n",
      "original_text =  the\n",
      "predicted text =  Tthe\n",
      "\n",
      "original_text =  and\n",
      "predicted text =  zand\n",
      "\n",
      "original_text =  .\n",
      "predicted text =  :.\n",
      "\n",
      "original_text =  to\n",
      "predicted text =  Tto\n",
      "\n",
      "original_text =  have\n",
      "predicted text =  Thave\n",
      "\n",
      "original_text =  new\n",
      "predicted text =  ?inew\n",
      "\n",
      "original_text =  were\n",
      "predicted text =  were\n",
      "\n",
      "original_text =  meant\n",
      "predicted text =  Tmeant\n",
      "\n",
      "original_text =  that\n",
      "predicted text =  Tthat\n",
      "\n",
      "original_text =  by\n",
      "predicted text =  by\n",
      "\n",
      "original_text =  didn't\n",
      "predicted text =  didn't\n",
      "\n",
      "original_text =  gesture\n",
      "predicted text =  gesture\n",
      "\n",
      "original_text =  town\n",
      "predicted text =  Jtown\n",
      "\n",
      "original_text =  .\n",
      "predicted text =  :.\n",
      "\n",
      "original_text =  him\n",
      "predicted text =  Thim\n",
      "\n",
      "original_text =  examine\n",
      "predicted text =  Eexamine\n",
      "\n",
      "original_text =  Burge\n",
      "predicted text =  Burge\n",
      "\n",
      "original_text =  about\n",
      "predicted text =  sabout\n",
      "\n",
      "original_text =  off\n",
      "predicted text =  of\n",
      "\n",
      "original_text =  would\n",
      "predicted text =  would\n",
      "\n",
      "original_text =  with\n",
      "predicted text =  with\n",
      "\n",
      "original_text =  the\n",
      "predicted text =  Tthe\n",
      "\n"
     ]
    }
   ],
   "source": [
    "for i in range(30):\n",
    "    print(\"original_text = \", original_test_texts[i])\n",
    "    print(\"predicted text = \", numbered_array_to_text(test_predictions_decoded[i]))\n",
    "    print()"
   ]
  },
  {
   "cell_type": "code",
   "execution_count": 7,
   "metadata": {},
   "outputs": [
    {
     "name": "stdout",
     "output_type": "stream",
     "text": [
      "Error loading the model: Exception encountered when calling layer \"lambda\" (type Lambda).\n",
      "\n",
      "name 'tf_keras_backend' is not defined\n",
      "\n",
      "Call arguments received by layer \"lambda\" (type Lambda):\n",
      "  • inputs=tf.Tensor(shape=(None, 32, 256), dtype=float32)\n",
      "  • mask=None\n",
      "  • training=None\n"
     ]
    },
    {
     "ename": "NameError",
     "evalue": "name 'model' is not defined",
     "output_type": "error",
     "traceback": [
      "\u001b[1;31m---------------------------------------------------------------------------\u001b[0m",
      "\u001b[1;31mNameError\u001b[0m                                 Traceback (most recent call last)",
      "\u001b[1;32m~\\AppData\\Local\\Temp\\ipykernel_23296\\287169115.py\u001b[0m in \u001b[0;36m<module>\u001b[1;34m\u001b[0m\n\u001b[0;32m      9\u001b[0m \u001b[1;33m\u001b[0m\u001b[0m\n\u001b[0;32m     10\u001b[0m \u001b[1;31m# If loading fails, inspect the model structure\u001b[0m\u001b[1;33m\u001b[0m\u001b[1;33m\u001b[0m\u001b[0m\n\u001b[1;32m---> 11\u001b[1;33m \u001b[1;32mif\u001b[0m \u001b[1;32mnot\u001b[0m \u001b[0mmodel\u001b[0m\u001b[1;33m:\u001b[0m\u001b[1;33m\u001b[0m\u001b[1;33m\u001b[0m\u001b[0m\n\u001b[0m\u001b[0;32m     12\u001b[0m     \u001b[1;32mtry\u001b[0m\u001b[1;33m:\u001b[0m\u001b[1;33m\u001b[0m\u001b[1;33m\u001b[0m\u001b[0m\n\u001b[0;32m     13\u001b[0m         \u001b[1;31m# Load the model architecture without weights\u001b[0m\u001b[1;33m\u001b[0m\u001b[1;33m\u001b[0m\u001b[0m\n",
      "\u001b[1;31mNameError\u001b[0m: name 'model' is not defined"
     ]
    }
   ],
   "source": [
    "import tensorflow as tf\n",
    "\n",
    "# Load the model\n",
    "try:\n",
    "    model = tf.keras.models.load_model('Model/')\n",
    "    print(\"Model loaded successfully!\")\n",
    "except Exception as e:\n",
    "    print(\"Error loading the model:\", e)\n",
    "\n",
    "# If loading fails, inspect the model structure\n",
    "if not model:\n",
    "    try:\n",
    "        # Load the model architecture without weights\n",
    "        model = tf.keras.models.load_model('Model/', compile=False)\n",
    "        \n",
    "        # Display model summary\n",
    "        print(\"Model Summary:\")\n",
    "        print(model.summary())\n",
    "        \n",
    "        # Display model configuration\n",
    "        print(\"\\nModel Configuration:\")\n",
    "        print(model.get_config())\n",
    "        \n",
    "        # Iterate over layers and inspect Lambda layers\n",
    "        for layer in model.layers:\n",
    "            if isinstance(layer, tf.keras.layers.Lambda):\n",
    "                print(\"Lambda Layer:\", layer)\n",
    "                # Inspect lambda function\n",
    "                print(\"Lambda Function:\", layer.function)\n",
    "                # You can also print other properties of the Lambda layer\n",
    "                \n",
    "    except Exception as e:\n",
    "        print(\"Error inspecting the model structure:\", e)\n"
   ]
  },
  {
   "cell_type": "code",
   "execution_count": null,
   "metadata": {},
   "outputs": [],
   "source": []
  }
 ],
 "metadata": {
  "accelerator": "GPU",
  "colab": {
   "authorship_tag": "ABX9TyMBi8tfNvhDf+91PdPt4sO2",
   "collapsed_sections": [],
   "mount_file_id": "1106gQGRADj2L3JPi2ZusQnv8XT4Th1Ab",
   "name": "iam on july 25-BiGRU.ipynb",
   "provenance": [
    {
     "file_id": "1a2hmmZf4-V3A8k25e8tcWIv6G34TRQHS",
     "timestamp": 1595665125038
    },
    {
     "file_id": "1P3mCYEG7vwVgj_LkYNJaI6Rr42T5HTef",
     "timestamp": 1595594895900
    }
   ]
  },
  "kernelspec": {
   "display_name": "Python 3 (ipykernel)",
   "language": "python",
   "name": "python3"
  },
  "language_info": {
   "codemirror_mode": {
    "name": "ipython",
    "version": 3
   },
   "file_extension": ".py",
   "mimetype": "text/x-python",
   "name": "python",
   "nbconvert_exporter": "python",
   "pygments_lexer": "ipython3",
   "version": "3.9.13"
  }
 },
 "nbformat": 4,
 "nbformat_minor": 1
}
